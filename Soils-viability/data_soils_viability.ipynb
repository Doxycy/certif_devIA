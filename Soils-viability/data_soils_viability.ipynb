{
 "cells": [
  {
   "cell_type": "markdown",
   "metadata": {},
   "source": [
    "# Prediction of Soil Viability for Sustainable Agriculture"
   ]
  },
  {
   "cell_type": "markdown",
   "metadata": {},
   "source": [
    "🎯 The goal of this challenge is to train a model that classifies soils as viable or not for sustainable agriculture."
   ]
  },
  {
   "cell_type": "markdown",
   "metadata": {},
   "source": [
    "💡 As part of an initiative to promote sustainable agriculture worldwide, experiments were made at different locations.\n",
    "\n",
    "Each experiment consisted in an analysis of the soil.  \n",
    "The results of these analysis are our features.\n",
    "\n",
    "After the analysis, a small agriculture project was launched at the location:    \n",
    "- If the project was successful, the soil was labeled as viable.  \n",
    "- On the other hand if the project failed, the soil was labeled as not-viable.  \n",
    "\n",
    "The viability of the soil is our target."
   ]
  },
  {
   "cell_type": "markdown",
   "metadata": {},
   "source": [
    "💡 Small test projects were used for data collection, but the ambition is to launch projects of much larger scale.  \n",
    "\n",
    "The costs and time investment on these large scale projects are extremely high.  \n",
    "\n",
    "🎯 To be valuable, our model should be right at least 90% of the time when it identifies a viable soil."
   ]
  },
  {
   "cell_type": "markdown",
   "metadata": {},
   "source": [
    "Here is a description of the fields:\n",
    "- **id**: Unique identification number of the experiment\n",
    "- **scientist**: Name of the scientist responsible for the experiment\n",
    "- **measure_index**: Engineered measure of soil characteristics\n",
    "- **measure_moisture**: Moisture level of the soil\n",
    "- **measure_temperature**: Temperature of the soil, in Celsius degrees\n",
    "- **measure_chemicals**: Indice of chemicals presence in the soil\n",
    "- **measure_biodiversity**: Indice of biodiversity in the soil\n",
    "- **measure_flora**: Indice of diversity of flora in the soil\n",
    "- **main_element**: Symbol of the main chemical element found in the soil\n",
    "- **past_agriculture**: Indicates the presence of past agriculture on the soil\n",
    "- **soil_condition**: Overall indicator of the soil fertility\n",
    "- **datetime_start**: Timestamp of experiment's start \n",
    "- **datetime_end**: Timestamp of experiment's end\n",
    "- **target**: Viability of the soil  \n",
    "    - 1: means the soil was viable, i.e. the test project was a success  \n",
    "    - 0: means the soil was not viable, i.e. the test project was a failure"
   ]
  },
  {
   "cell_type": "code",
   "execution_count": 1,
   "metadata": {},
   "outputs": [],
   "source": [
    "# import \n",
    "import numpy as np\n",
    "import pandas as pd\n",
    "\n",
    "\n",
    "from sklearn.impute import SimpleImputer"
   ]
  },
  {
   "cell_type": "markdown",
   "metadata": {},
   "source": [
    "## Data Collection"
   ]
  },
  {
   "cell_type": "markdown",
   "metadata": {},
   "source": [
    "**📝 Load the csv provided at this URL: https://wagon-public-datasets.s3.amazonaws.com/certification/soils_viability/soils_viability_train.csv.**"
   ]
  },
  {
   "cell_type": "code",
   "execution_count": 2,
   "metadata": {
    "ExecuteTime": {
     "end_time": "2021-09-09T15:39:40.398126Z",
     "start_time": "2021-09-09T15:39:40.377328Z"
    },
    "tags": [
     "challengify"
    ]
   },
   "outputs": [],
   "source": [
    "data=pd.read_csv(\"https://wagon-public-datasets.s3.amazonaws.com/certification/soils_viability/soils_viability_train.csv\")"
   ]
  },
  {
   "cell_type": "markdown",
   "metadata": {
    "ExecuteTime": {
     "end_time": "2021-08-26T15:16:16.968282Z",
     "start_time": "2021-08-26T15:16:16.912761Z"
    }
   },
   "source": [
    "**📝 Clean the dataset and store the resulting dataset in the `data` variable:**"
   ]
  },
  {
   "cell_type": "code",
   "execution_count": 4,
   "metadata": {},
   "outputs": [
    {
     "data": {
      "text/plain": [
       "(8302, 14)"
      ]
     },
     "execution_count": 4,
     "metadata": {},
     "output_type": "execute_result"
    }
   ],
   "source": [
    "data.shape"
   ]
  },
  {
   "cell_type": "code",
   "execution_count": 3,
   "metadata": {
    "ExecuteTime": {
     "end_time": "2021-09-09T15:39:40.500340Z",
     "start_time": "2021-09-09T15:39:40.463560Z"
    },
    "tags": [
     "challengify"
    ]
   },
   "outputs": [],
   "source": [
    "data.drop_duplicates(inplace=True)"
   ]
  },
  {
   "cell_type": "code",
   "execution_count": 4,
   "metadata": {},
   "outputs": [
    {
     "data": {
      "text/plain": [
       "(8138, 14)"
      ]
     },
     "execution_count": 4,
     "metadata": {},
     "output_type": "execute_result"
    }
   ],
   "source": [
    "data.shape"
   ]
  },
  {
   "cell_type": "code",
   "execution_count": 5,
   "metadata": {
    "scrolled": true
   },
   "outputs": [
    {
     "data": {
      "text/plain": [
       "measure_flora           0.990538\n",
       "past_agriculture        0.402802\n",
       "measure_chemicals       0.002212\n",
       "measure_biodiversity    0.002212\n",
       "measure_temperature     0.002089\n",
       "measure_moisture        0.000860\n",
       "id                      0.000000\n",
       "scientist               0.000000\n",
       "measure_index           0.000000\n",
       "main_element            0.000000\n",
       "soil_condition          0.000000\n",
       "datetime_start          0.000000\n",
       "datetime_end            0.000000\n",
       "target                  0.000000\n",
       "dtype: float64"
      ]
     },
     "execution_count": 5,
     "metadata": {},
     "output_type": "execute_result"
    }
   ],
   "source": [
    "data.isnull().sum().sort_values(ascending=False)/len(data)"
   ]
  },
  {
   "cell_type": "markdown",
   "metadata": {},
   "source": [
    "__measure_flora__ : Trop de NA pour SimpleImputer"
   ]
  },
  {
   "cell_type": "code",
   "execution_count": 6,
   "metadata": {
    "scrolled": true
   },
   "outputs": [
    {
     "data": {
      "text/plain": [
       "58.823740    1\n",
       "17.563939    1\n",
       "6.998023     1\n",
       "24.147078    1\n",
       "16.775127    1\n",
       "            ..\n",
       "4.137682     1\n",
       "40.549023    1\n",
       "4.976018     1\n",
       "0.854240     1\n",
       "12.647071    1\n",
       "Name: measure_flora, Length: 77, dtype: int64"
      ]
     },
     "execution_count": 6,
     "metadata": {},
     "output_type": "execute_result"
    }
   ],
   "source": [
    "data.measure_flora.value_counts()"
   ]
  },
  {
   "cell_type": "code",
   "execution_count": 7,
   "metadata": {},
   "outputs": [],
   "source": [
    "data.drop(columns=[\"measure_flora\"],inplace=True)"
   ]
  },
  {
   "cell_type": "code",
   "execution_count": 8,
   "metadata": {},
   "outputs": [
    {
     "data": {
      "text/plain": [
       "(8138, 13)"
      ]
     },
     "execution_count": 8,
     "metadata": {},
     "output_type": "execute_result"
    }
   ],
   "source": [
    "data.shape"
   ]
  },
  {
   "cell_type": "markdown",
   "metadata": {},
   "source": [
    "__past_agriculture :__ idem"
   ]
  },
  {
   "cell_type": "code",
   "execution_count": 9,
   "metadata": {
    "scrolled": true
   },
   "outputs": [
    {
     "data": {
      "text/plain": [
       "no     3247\n",
       "yes    1613\n",
       "Name: past_agriculture, dtype: int64"
      ]
     },
     "execution_count": 9,
     "metadata": {},
     "output_type": "execute_result"
    }
   ],
   "source": [
    "data.past_agriculture.value_counts()"
   ]
  },
  {
   "cell_type": "code",
   "execution_count": 10,
   "metadata": {},
   "outputs": [],
   "source": [
    "data.drop(columns=[\"past_agriculture\"],inplace=True)\n",
    "#data.past_agriculture.replace(np.nan, \"no\", inplace=True)"
   ]
  },
  {
   "cell_type": "markdown",
   "metadata": {},
   "source": [
    "__measure_chemicals :__ "
   ]
  },
  {
   "cell_type": "code",
   "execution_count": 11,
   "metadata": {},
   "outputs": [],
   "source": [
    "imputer = SimpleImputer(strategy=\"median\")"
   ]
  },
  {
   "cell_type": "code",
   "execution_count": 12,
   "metadata": {},
   "outputs": [],
   "source": [
    "imputer.fit(data[['measure_chemicals']]) # Call the \"fit\" method on the object\n",
    "\n",
    "data['measure_chemicals'] = imputer.transform(data[['measure_chemicals']]) # Call the \"transform\" method on the object"
   ]
  },
  {
   "cell_type": "markdown",
   "metadata": {},
   "source": [
    "__measure_biodiversity :__ "
   ]
  },
  {
   "cell_type": "code",
   "execution_count": 13,
   "metadata": {},
   "outputs": [],
   "source": [
    "imputer = SimpleImputer(strategy=\"median\")\n",
    "\n",
    "imputer.fit(data[['measure_biodiversity']]) # Call the \"fit\" method on the object\n",
    "\n",
    "data['measure_biodiversity'] = imputer.transform(data[['measure_biodiversity']]) # Call the \"transform\" method on the object"
   ]
  },
  {
   "cell_type": "markdown",
   "metadata": {},
   "source": [
    "__measure_temperature :__"
   ]
  },
  {
   "cell_type": "code",
   "execution_count": 14,
   "metadata": {},
   "outputs": [],
   "source": [
    "imputer = SimpleImputer(strategy=\"median\")\n",
    "\n",
    "imputer.fit(data[['measure_temperature']]) # Call the \"fit\" method on the object\n",
    "\n",
    "data['measure_temperature'] = imputer.transform(data[['measure_temperature']]) # Call the \"transform\" method on the object"
   ]
  },
  {
   "cell_type": "markdown",
   "metadata": {},
   "source": [
    "__measure_moisture__ :"
   ]
  },
  {
   "cell_type": "code",
   "execution_count": 15,
   "metadata": {},
   "outputs": [],
   "source": [
    "imputer = SimpleImputer(strategy=\"median\")\n",
    "\n",
    "imputer.fit(data[['measure_moisture']]) # Call the \"fit\" method on the object\n",
    "\n",
    "data['measure_moisture'] = imputer.transform(data[['measure_moisture']]) # Call the \"transform\" method on the object"
   ]
  },
  {
   "cell_type": "code",
   "execution_count": 16,
   "metadata": {
    "scrolled": true
   },
   "outputs": [
    {
     "data": {
      "text/plain": [
       "id                      0.0\n",
       "scientist               0.0\n",
       "measure_index           0.0\n",
       "measure_moisture        0.0\n",
       "measure_temperature     0.0\n",
       "measure_chemicals       0.0\n",
       "measure_biodiversity    0.0\n",
       "main_element            0.0\n",
       "soil_condition          0.0\n",
       "datetime_start          0.0\n",
       "datetime_end            0.0\n",
       "target                  0.0\n",
       "dtype: float64"
      ]
     },
     "execution_count": 16,
     "metadata": {},
     "output_type": "execute_result"
    }
   ],
   "source": [
    "data.isnull().sum().sort_values(ascending=False)/len(data)"
   ]
  },
  {
   "cell_type": "code",
   "execution_count": 17,
   "metadata": {
    "scrolled": true
   },
   "outputs": [
    {
     "data": {
      "text/html": [
       "<div>\n",
       "<style scoped>\n",
       "    .dataframe tbody tr th:only-of-type {\n",
       "        vertical-align: middle;\n",
       "    }\n",
       "\n",
       "    .dataframe tbody tr th {\n",
       "        vertical-align: top;\n",
       "    }\n",
       "\n",
       "    .dataframe thead th {\n",
       "        text-align: right;\n",
       "    }\n",
       "</style>\n",
       "<table border=\"1\" class=\"dataframe\">\n",
       "  <thead>\n",
       "    <tr style=\"text-align: right;\">\n",
       "      <th></th>\n",
       "      <th>id</th>\n",
       "      <th>scientist</th>\n",
       "      <th>measure_index</th>\n",
       "      <th>measure_moisture</th>\n",
       "      <th>measure_temperature</th>\n",
       "      <th>measure_chemicals</th>\n",
       "      <th>measure_biodiversity</th>\n",
       "      <th>main_element</th>\n",
       "      <th>soil_condition</th>\n",
       "      <th>datetime_start</th>\n",
       "      <th>datetime_end</th>\n",
       "      <th>target</th>\n",
       "    </tr>\n",
       "  </thead>\n",
       "  <tbody>\n",
       "    <tr>\n",
       "      <th>0</th>\n",
       "      <td>493</td>\n",
       "      <td>Kathryn Owens</td>\n",
       "      <td>1.875085</td>\n",
       "      <td>24.442232</td>\n",
       "      <td>18.510316</td>\n",
       "      <td>5.715697</td>\n",
       "      <td>521.074105</td>\n",
       "      <td>Na</td>\n",
       "      <td>normal</td>\n",
       "      <td>2017-06-27 16:53:42</td>\n",
       "      <td>2017-06-27 20:05:36</td>\n",
       "      <td>1</td>\n",
       "    </tr>\n",
       "    <tr>\n",
       "      <th>1</th>\n",
       "      <td>2340</td>\n",
       "      <td>Andrea Pratt</td>\n",
       "      <td>7.658911</td>\n",
       "      <td>30.121175</td>\n",
       "      <td>17.050250</td>\n",
       "      <td>1.973804</td>\n",
       "      <td>314.443474</td>\n",
       "      <td>Ca</td>\n",
       "      <td>rich</td>\n",
       "      <td>2018-12-10 07:06:56</td>\n",
       "      <td>2018-12-10 11:43:29</td>\n",
       "      <td>1</td>\n",
       "    </tr>\n",
       "    <tr>\n",
       "      <th>2</th>\n",
       "      <td>5434</td>\n",
       "      <td>Kaitlyn Jackson</td>\n",
       "      <td>18.000212</td>\n",
       "      <td>34.188025</td>\n",
       "      <td>17.157393</td>\n",
       "      <td>3.658506</td>\n",
       "      <td>361.796180</td>\n",
       "      <td>Al</td>\n",
       "      <td>normal</td>\n",
       "      <td>2018-10-04 18:45:29</td>\n",
       "      <td>2018-10-04 23:20:38</td>\n",
       "      <td>0</td>\n",
       "    </tr>\n",
       "    <tr>\n",
       "      <th>3</th>\n",
       "      <td>2304</td>\n",
       "      <td>Brett Rosario</td>\n",
       "      <td>4.056764</td>\n",
       "      <td>37.462768</td>\n",
       "      <td>13.275961</td>\n",
       "      <td>6.666983</td>\n",
       "      <td>402.016494</td>\n",
       "      <td>Ca</td>\n",
       "      <td>normal</td>\n",
       "      <td>2018-10-03 08:03:36</td>\n",
       "      <td>2018-10-03 10:56:40</td>\n",
       "      <td>0</td>\n",
       "    </tr>\n",
       "    <tr>\n",
       "      <th>4</th>\n",
       "      <td>1911</td>\n",
       "      <td>Craig Thompson</td>\n",
       "      <td>53.271676</td>\n",
       "      <td>31.425482</td>\n",
       "      <td>17.433458</td>\n",
       "      <td>1.940748</td>\n",
       "      <td>978.383654</td>\n",
       "      <td>Si</td>\n",
       "      <td>poor</td>\n",
       "      <td>2018-07-20 09:27:34</td>\n",
       "      <td>2018-07-20 13:48:30</td>\n",
       "      <td>0</td>\n",
       "    </tr>\n",
       "  </tbody>\n",
       "</table>\n",
       "</div>"
      ],
      "text/plain": [
       "     id        scientist  measure_index  measure_moisture  \\\n",
       "0   493    Kathryn Owens       1.875085         24.442232   \n",
       "1  2340     Andrea Pratt       7.658911         30.121175   \n",
       "2  5434  Kaitlyn Jackson      18.000212         34.188025   \n",
       "3  2304    Brett Rosario       4.056764         37.462768   \n",
       "4  1911   Craig Thompson      53.271676         31.425482   \n",
       "\n",
       "   measure_temperature  measure_chemicals  measure_biodiversity main_element  \\\n",
       "0            18.510316           5.715697            521.074105           Na   \n",
       "1            17.050250           1.973804            314.443474           Ca   \n",
       "2            17.157393           3.658506            361.796180           Al   \n",
       "3            13.275961           6.666983            402.016494           Ca   \n",
       "4            17.433458           1.940748            978.383654           Si   \n",
       "\n",
       "  soil_condition       datetime_start         datetime_end  target  \n",
       "0         normal  2017-06-27 16:53:42  2017-06-27 20:05:36       1  \n",
       "1           rich  2018-12-10 07:06:56  2018-12-10 11:43:29       1  \n",
       "2         normal  2018-10-04 18:45:29  2018-10-04 23:20:38       0  \n",
       "3         normal  2018-10-03 08:03:36  2018-10-03 10:56:40       0  \n",
       "4           poor  2018-07-20 09:27:34  2018-07-20 13:48:30       0  "
      ]
     },
     "execution_count": 17,
     "metadata": {},
     "output_type": "execute_result"
    }
   ],
   "source": [
    "data.head()"
   ]
  },
  {
   "cell_type": "markdown",
   "metadata": {},
   "source": [
    "### 💾 Save your results\n",
    "\n",
    "Run the cell below to save your results."
   ]
  },
  {
   "cell_type": "code",
   "execution_count": 18,
   "metadata": {},
   "outputs": [],
   "source": [
    "from nbresult import ChallengeResult\n",
    "results = ChallengeResult(\n",
    "    \"data_cleaning\",\n",
    "    columns=data.columns,\n",
    "    shape=data.shape,\n",
    "    samples=data.loc[7000:,:]\n",
    ")\n",
    "results.write()"
   ]
  },
  {
   "cell_type": "markdown",
   "metadata": {},
   "source": [
    "## Target, Baseline & Metrics"
   ]
  },
  {
   "cell_type": "markdown",
   "metadata": {
    "ExecuteTime": {
     "end_time": "2021-08-26T09:51:04.532853Z",
     "start_time": "2021-08-26T09:51:04.520413Z"
    }
   },
   "source": [
    "**📝 Check the number of target classes and their repartition.**"
   ]
  },
  {
   "cell_type": "code",
   "execution_count": 19,
   "metadata": {
    "ExecuteTime": {
     "end_time": "2021-09-09T15:39:41.810088Z",
     "start_time": "2021-09-09T15:39:41.778859Z"
    },
    "tags": [
     "challengify"
    ]
   },
   "outputs": [
    {
     "data": {
      "text/plain": [
       "1    4092\n",
       "0    4046\n",
       "Name: target, dtype: int64"
      ]
     },
     "execution_count": 19,
     "metadata": {},
     "output_type": "execute_result"
    }
   ],
   "source": [
    "data.target.value_counts()"
   ]
  },
  {
   "cell_type": "markdown",
   "metadata": {},
   "source": [
    "❓ Is the dataset balanced?"
   ]
  },
  {
   "cell_type": "markdown",
   "metadata": {
    "tags": [
     "challengify"
    ]
   },
   "source": [
    "Oui"
   ]
  },
  {
   "cell_type": "markdown",
   "metadata": {},
   "source": [
    "🎯 Recall our initial requirement:\n",
    "\n",
    "**\"To be valuable, our model should be right at least 90% of the time when it predicts a viable soil.\"**\n",
    "\n",
    "📝 Store the name of the metric we should use for this purpose in a variable `metric` from the list proposed by [Scikit-learn](https://scikit-learn.org/stable/modules/model_evaluation.html#common-cases-predefined-values).\n"
   ]
  },
  {
   "cell_type": "code",
   "execution_count": 64,
   "metadata": {
    "ExecuteTime": {
     "end_time": "2021-09-09T15:39:41.877982Z",
     "start_time": "2021-09-09T15:39:41.862118Z"
    },
    "tags": [
     "challengify"
    ]
   },
   "outputs": [],
   "source": [
    "metric=\"precision\""
   ]
  },
  {
   "cell_type": "markdown",
   "metadata": {},
   "source": [
    "**📝 Compute the baseline score and store the result as a floating number in the `baseline_score` variable.**\n"
   ]
  },
  {
   "cell_type": "code",
   "execution_count": 83,
   "metadata": {},
   "outputs": [],
   "source": [
    "from sklearn.metrics import precision_score\n",
    "\n",
    "y_dummy=np.ones(len(data[\"target\"]))\n",
    "baseline_score=precision_score(data[\"target\"],y_dummy)"
   ]
  },
  {
   "cell_type": "code",
   "execution_count": 84,
   "metadata": {},
   "outputs": [
    {
     "data": {
      "text/plain": [
       "0.5028262472351929"
      ]
     },
     "execution_count": 84,
     "metadata": {},
     "output_type": "execute_result"
    }
   ],
   "source": [
    "baseline_score"
   ]
  },
  {
   "cell_type": "markdown",
   "metadata": {},
   "source": [
    "**📝 Store the target in a variable named `y`.**"
   ]
  },
  {
   "cell_type": "code",
   "execution_count": 85,
   "metadata": {
    "ExecuteTime": {
     "end_time": "2021-09-09T15:39:41.857148Z",
     "start_time": "2021-09-09T15:39:41.827800Z"
    },
    "tags": [
     "challengify"
    ]
   },
   "outputs": [],
   "source": [
    "y=data[\"target\"]"
   ]
  },
  {
   "cell_type": "markdown",
   "metadata": {},
   "source": [
    "### 💾 Save your results\n",
    "\n",
    "Run the cell below to save your results."
   ]
  },
  {
   "cell_type": "code",
   "execution_count": 86,
   "metadata": {},
   "outputs": [],
   "source": [
    "results = ChallengeResult(\n",
    "    \"baseline\",\n",
    "    metric=metric,\n",
    "    baseline=baseline_score\n",
    ")\n",
    "results.write()"
   ]
  },
  {
   "cell_type": "markdown",
   "metadata": {},
   "source": [
    "## Features"
   ]
  },
  {
   "cell_type": "code",
   "execution_count": 87,
   "metadata": {
    "ExecuteTime": {
     "end_time": "2021-09-09T15:39:41.935151Z",
     "start_time": "2021-09-09T15:39:41.880164Z"
    }
   },
   "outputs": [],
   "source": [
    "from sklearn import set_config; set_config(display='diagram')"
   ]
  },
  {
   "cell_type": "markdown",
   "metadata": {},
   "source": [
    "**📝 Store the features in a DataFrame `X`.**\n"
   ]
  },
  {
   "cell_type": "code",
   "execution_count": 340,
   "metadata": {
    "ExecuteTime": {
     "end_time": "2021-09-09T15:39:41.954123Z",
     "start_time": "2021-09-09T15:39:41.937063Z"
    },
    "tags": [
     "challengify"
    ]
   },
   "outputs": [],
   "source": [
    "X=data.drop(columns=[\"target\"])"
   ]
  },
  {
   "cell_type": "markdown",
   "metadata": {},
   "source": [
    "💡 Two features in there are useless.\n",
    "\n",
    "- `id`: serves a technical need and does not carry any information.  \n",
    "- `scientist`: almost all experiments were conducted by different scientists, we assume they all followed the same protocol for the experiment.\n",
    "\n",
    "**📝 Drop these two features.**"
   ]
  },
  {
   "cell_type": "code",
   "execution_count": 341,
   "metadata": {
    "ExecuteTime": {
     "end_time": "2021-09-09T15:39:41.973910Z",
     "start_time": "2021-09-09T15:39:41.955889Z"
    },
    "tags": [
     "challengify"
    ]
   },
   "outputs": [],
   "source": [
    "X.drop(columns=[\"id\",\"scientist\"],inplace=True)"
   ]
  },
  {
   "cell_type": "markdown",
   "metadata": {},
   "source": [
    "**📝 Create variables to store feature names according to their types.**"
   ]
  },
  {
   "cell_type": "markdown",
   "metadata": {
    "ExecuteTime": {
     "end_time": "2021-08-26T15:23:40.164290Z",
     "start_time": "2021-08-26T15:23:40.149621Z"
    }
   },
   "source": [
    "- `feat_num`: list of numerical features' name\n",
    "- `feat_cat` list of categorical features' name\n",
    "- `feat_time` list of time features' name"
   ]
  },
  {
   "cell_type": "code",
   "execution_count": 91,
   "metadata": {},
   "outputs": [],
   "source": [
    "feat_num=X.select_dtypes(include='float64').columns.tolist()"
   ]
  },
  {
   "cell_type": "code",
   "execution_count": 92,
   "metadata": {},
   "outputs": [],
   "source": [
    "feat_cat=X.select_dtypes(include='object').columns.tolist()[0:2]"
   ]
  },
  {
   "cell_type": "code",
   "execution_count": 93,
   "metadata": {
    "ExecuteTime": {
     "end_time": "2021-09-09T15:39:41.994679Z",
     "start_time": "2021-09-09T15:39:41.976174Z"
    },
    "tags": [
     "challengify"
    ]
   },
   "outputs": [],
   "source": [
    "feat_time=X.select_dtypes(include='object').columns.tolist()[2:]"
   ]
  },
  {
   "cell_type": "markdown",
   "metadata": {},
   "source": [
    "💡 We will ignore date-like features for the basic preprocessing.\n",
    "\n",
    "**📝 Create `X_basic` that contains only numerical and categorical features.**\n"
   ]
  },
  {
   "cell_type": "code",
   "execution_count": 94,
   "metadata": {
    "ExecuteTime": {
     "end_time": "2021-09-09T15:39:42.025512Z",
     "start_time": "2021-09-09T15:39:41.997100Z"
    },
    "tags": [
     "challengify"
    ]
   },
   "outputs": [],
   "source": [
    "X_basic=X[feat_num+feat_cat]"
   ]
  },
  {
   "cell_type": "code",
   "execution_count": 95,
   "metadata": {},
   "outputs": [
    {
     "data": {
      "text/html": [
       "<div>\n",
       "<style scoped>\n",
       "    .dataframe tbody tr th:only-of-type {\n",
       "        vertical-align: middle;\n",
       "    }\n",
       "\n",
       "    .dataframe tbody tr th {\n",
       "        vertical-align: top;\n",
       "    }\n",
       "\n",
       "    .dataframe thead th {\n",
       "        text-align: right;\n",
       "    }\n",
       "</style>\n",
       "<table border=\"1\" class=\"dataframe\">\n",
       "  <thead>\n",
       "    <tr style=\"text-align: right;\">\n",
       "      <th></th>\n",
       "      <th>measure_index</th>\n",
       "      <th>measure_moisture</th>\n",
       "      <th>measure_temperature</th>\n",
       "      <th>measure_chemicals</th>\n",
       "      <th>measure_biodiversity</th>\n",
       "      <th>main_element</th>\n",
       "      <th>soil_condition</th>\n",
       "    </tr>\n",
       "  </thead>\n",
       "  <tbody>\n",
       "    <tr>\n",
       "      <th>0</th>\n",
       "      <td>1.875085</td>\n",
       "      <td>24.442232</td>\n",
       "      <td>18.510316</td>\n",
       "      <td>5.715697</td>\n",
       "      <td>521.074105</td>\n",
       "      <td>Na</td>\n",
       "      <td>normal</td>\n",
       "    </tr>\n",
       "    <tr>\n",
       "      <th>1</th>\n",
       "      <td>7.658911</td>\n",
       "      <td>30.121175</td>\n",
       "      <td>17.050250</td>\n",
       "      <td>1.973804</td>\n",
       "      <td>314.443474</td>\n",
       "      <td>Ca</td>\n",
       "      <td>rich</td>\n",
       "    </tr>\n",
       "    <tr>\n",
       "      <th>2</th>\n",
       "      <td>18.000212</td>\n",
       "      <td>34.188025</td>\n",
       "      <td>17.157393</td>\n",
       "      <td>3.658506</td>\n",
       "      <td>361.796180</td>\n",
       "      <td>Al</td>\n",
       "      <td>normal</td>\n",
       "    </tr>\n",
       "    <tr>\n",
       "      <th>3</th>\n",
       "      <td>4.056764</td>\n",
       "      <td>37.462768</td>\n",
       "      <td>13.275961</td>\n",
       "      <td>6.666983</td>\n",
       "      <td>402.016494</td>\n",
       "      <td>Ca</td>\n",
       "      <td>normal</td>\n",
       "    </tr>\n",
       "    <tr>\n",
       "      <th>4</th>\n",
       "      <td>53.271676</td>\n",
       "      <td>31.425482</td>\n",
       "      <td>17.433458</td>\n",
       "      <td>1.940748</td>\n",
       "      <td>978.383654</td>\n",
       "      <td>Si</td>\n",
       "      <td>poor</td>\n",
       "    </tr>\n",
       "  </tbody>\n",
       "</table>\n",
       "</div>"
      ],
      "text/plain": [
       "   measure_index  measure_moisture  measure_temperature  measure_chemicals  \\\n",
       "0       1.875085         24.442232            18.510316           5.715697   \n",
       "1       7.658911         30.121175            17.050250           1.973804   \n",
       "2      18.000212         34.188025            17.157393           3.658506   \n",
       "3       4.056764         37.462768            13.275961           6.666983   \n",
       "4      53.271676         31.425482            17.433458           1.940748   \n",
       "\n",
       "   measure_biodiversity main_element soil_condition  \n",
       "0            521.074105           Na         normal  \n",
       "1            314.443474           Ca           rich  \n",
       "2            361.796180           Al         normal  \n",
       "3            402.016494           Ca         normal  \n",
       "4            978.383654           Si           poor  "
      ]
     },
     "execution_count": 95,
     "metadata": {},
     "output_type": "execute_result"
    }
   ],
   "source": [
    "X_basic.head()"
   ]
  },
  {
   "cell_type": "markdown",
   "metadata": {},
   "source": [
    "### 💾 Save your results\n",
    "\n",
    "Run the cell below to save your results."
   ]
  },
  {
   "cell_type": "code",
   "execution_count": 96,
   "metadata": {
    "ExecuteTime": {
     "end_time": "2021-09-09T15:39:42.054493Z",
     "start_time": "2021-09-09T15:39:42.027906Z"
    }
   },
   "outputs": [],
   "source": [
    "from nbresult import ChallengeResult\n",
    "result = ChallengeResult(\n",
    "    \"features\",\n",
    "    columns=X.columns,\n",
    "    shape=X.shape,\n",
    "    target=y.ndim\n",
    ")\n",
    "result.write()"
   ]
  },
  {
   "cell_type": "markdown",
   "metadata": {},
   "source": [
    "## Preprocessing"
   ]
  },
  {
   "cell_type": "code",
   "execution_count": 97,
   "metadata": {
    "ExecuteTime": {
     "end_time": "2021-09-09T15:39:42.067672Z",
     "start_time": "2021-09-09T15:39:42.056478Z"
    }
   },
   "outputs": [],
   "source": [
    "from sklearn import set_config; set_config(display='diagram')"
   ]
  },
  {
   "cell_type": "markdown",
   "metadata": {},
   "source": [
    "**📝 Scale and Encode your features.**"
   ]
  },
  {
   "cell_type": "markdown",
   "metadata": {},
   "source": [
    "Prepare a ColumnTransformer that:\n",
    "- Scale the numerical features between $0$ and $1$\n",
    "- Encode the categorical features\n",
    "\n",
    "Store it in a variable `preprocessing_basic`\n"
   ]
  },
  {
   "cell_type": "code",
   "execution_count": 98,
   "metadata": {
    "ExecuteTime": {
     "end_time": "2021-09-09T15:39:42.112025Z",
     "start_time": "2021-09-09T15:39:42.094352Z"
    },
    "tags": [
     "challengify"
    ]
   },
   "outputs": [],
   "source": [
    "from sklearn.preprocessing import MinMaxScaler\n",
    "from sklearn.pipeline import Pipeline\n",
    "from sklearn.compose import ColumnTransformer,make_column_selector\n",
    "from sklearn.preprocessing import OneHotEncoder"
   ]
  },
  {
   "cell_type": "code",
   "execution_count": 99,
   "metadata": {},
   "outputs": [],
   "source": [
    "num_transformer=MinMaxScaler()"
   ]
  },
  {
   "cell_type": "code",
   "execution_count": 100,
   "metadata": {},
   "outputs": [],
   "source": [
    "cat_transformer = OneHotEncoder(handle_unknown='ignore')"
   ]
  },
  {
   "cell_type": "code",
   "execution_count": 101,
   "metadata": {},
   "outputs": [],
   "source": [
    "preprocessing_basic=ColumnTransformer([\n",
    "    ('num_transformer', num_transformer, make_column_selector(dtype_include=['float64'])),\n",
    "    ('cat_transformer', cat_transformer, make_column_selector(dtype_include=['object']))],\n",
    "    remainder='passthrough')\n"
   ]
  },
  {
   "cell_type": "code",
   "execution_count": 102,
   "metadata": {},
   "outputs": [
    {
     "data": {
      "text/html": [
       "<style>#sk-8d52ef0e-f6c0-4dd9-9451-2be89c6f072a {color: black;background-color: white;}#sk-8d52ef0e-f6c0-4dd9-9451-2be89c6f072a pre{padding: 0;}#sk-8d52ef0e-f6c0-4dd9-9451-2be89c6f072a div.sk-toggleable {background-color: white;}#sk-8d52ef0e-f6c0-4dd9-9451-2be89c6f072a label.sk-toggleable__label {cursor: pointer;display: block;width: 100%;margin-bottom: 0;padding: 0.2em 0.3em;box-sizing: border-box;text-align: center;}#sk-8d52ef0e-f6c0-4dd9-9451-2be89c6f072a div.sk-toggleable__content {max-height: 0;max-width: 0;overflow: hidden;text-align: left;background-color: #f0f8ff;}#sk-8d52ef0e-f6c0-4dd9-9451-2be89c6f072a div.sk-toggleable__content pre {margin: 0.2em;color: black;border-radius: 0.25em;background-color: #f0f8ff;}#sk-8d52ef0e-f6c0-4dd9-9451-2be89c6f072a input.sk-toggleable__control:checked~div.sk-toggleable__content {max-height: 200px;max-width: 100%;overflow: auto;}#sk-8d52ef0e-f6c0-4dd9-9451-2be89c6f072a div.sk-estimator input.sk-toggleable__control:checked~label.sk-toggleable__label {background-color: #d4ebff;}#sk-8d52ef0e-f6c0-4dd9-9451-2be89c6f072a div.sk-label input.sk-toggleable__control:checked~label.sk-toggleable__label {background-color: #d4ebff;}#sk-8d52ef0e-f6c0-4dd9-9451-2be89c6f072a input.sk-hidden--visually {border: 0;clip: rect(1px 1px 1px 1px);clip: rect(1px, 1px, 1px, 1px);height: 1px;margin: -1px;overflow: hidden;padding: 0;position: absolute;width: 1px;}#sk-8d52ef0e-f6c0-4dd9-9451-2be89c6f072a div.sk-estimator {font-family: monospace;background-color: #f0f8ff;margin: 0.25em 0.25em;border: 1px dotted black;border-radius: 0.25em;box-sizing: border-box;}#sk-8d52ef0e-f6c0-4dd9-9451-2be89c6f072a div.sk-estimator:hover {background-color: #d4ebff;}#sk-8d52ef0e-f6c0-4dd9-9451-2be89c6f072a div.sk-parallel-item::after {content: \"\";width: 100%;border-bottom: 1px solid gray;flex-grow: 1;}#sk-8d52ef0e-f6c0-4dd9-9451-2be89c6f072a div.sk-label:hover label.sk-toggleable__label {background-color: #d4ebff;}#sk-8d52ef0e-f6c0-4dd9-9451-2be89c6f072a div.sk-serial::before {content: \"\";position: absolute;border-left: 1px solid gray;box-sizing: border-box;top: 2em;bottom: 0;left: 50%;}#sk-8d52ef0e-f6c0-4dd9-9451-2be89c6f072a div.sk-serial {display: flex;flex-direction: column;align-items: center;background-color: white;}#sk-8d52ef0e-f6c0-4dd9-9451-2be89c6f072a div.sk-item {z-index: 1;}#sk-8d52ef0e-f6c0-4dd9-9451-2be89c6f072a div.sk-parallel {display: flex;align-items: stretch;justify-content: center;background-color: white;}#sk-8d52ef0e-f6c0-4dd9-9451-2be89c6f072a div.sk-parallel-item {display: flex;flex-direction: column;position: relative;background-color: white;}#sk-8d52ef0e-f6c0-4dd9-9451-2be89c6f072a div.sk-parallel-item:first-child::after {align-self: flex-end;width: 50%;}#sk-8d52ef0e-f6c0-4dd9-9451-2be89c6f072a div.sk-parallel-item:last-child::after {align-self: flex-start;width: 50%;}#sk-8d52ef0e-f6c0-4dd9-9451-2be89c6f072a div.sk-parallel-item:only-child::after {width: 0;}#sk-8d52ef0e-f6c0-4dd9-9451-2be89c6f072a div.sk-dashed-wrapped {border: 1px dashed gray;margin: 0.2em;box-sizing: border-box;padding-bottom: 0.1em;background-color: white;position: relative;}#sk-8d52ef0e-f6c0-4dd9-9451-2be89c6f072a div.sk-label label {font-family: monospace;font-weight: bold;background-color: white;display: inline-block;line-height: 1.2em;}#sk-8d52ef0e-f6c0-4dd9-9451-2be89c6f072a div.sk-label-container {position: relative;z-index: 2;text-align: center;}#sk-8d52ef0e-f6c0-4dd9-9451-2be89c6f072a div.sk-container {display: inline-block;position: relative;}</style><div id=\"sk-8d52ef0e-f6c0-4dd9-9451-2be89c6f072a\" class\"sk-top-container\"><div class=\"sk-container\"><div class=\"sk-item sk-dashed-wrapped\"><div class=\"sk-label-container\"><div class=\"sk-label sk-toggleable\"><input class=\"sk-toggleable__control sk-hidden--visually\" id=\"120fd831-ea47-45de-a379-efc97eeddfd3\" type=\"checkbox\" ><label class=\"sk-toggleable__label\" for=\"120fd831-ea47-45de-a379-efc97eeddfd3\">ColumnTransformer</label><div class=\"sk-toggleable__content\"><pre>ColumnTransformer(remainder='passthrough',\n",
       "                  transformers=[('num_transformer', MinMaxScaler(),\n",
       "                                 <sklearn.compose._column_transformer.make_column_selector object at 0x1294ac790>),\n",
       "                                ('cat_transformer',\n",
       "                                 OneHotEncoder(handle_unknown='ignore'),\n",
       "                                 <sklearn.compose._column_transformer.make_column_selector object at 0x1294ac8e0>)])</pre></div></div></div><div class=\"sk-parallel\"><div class=\"sk-parallel-item\"><div class=\"sk-item\"><div class=\"sk-label-container\"><div class=\"sk-label sk-toggleable\"><input class=\"sk-toggleable__control sk-hidden--visually\" id=\"f166526d-6554-4171-a6ab-a4ff7bf3ca5c\" type=\"checkbox\" ><label class=\"sk-toggleable__label\" for=\"f166526d-6554-4171-a6ab-a4ff7bf3ca5c\">num_transformer</label><div class=\"sk-toggleable__content\"><pre><sklearn.compose._column_transformer.make_column_selector object at 0x1294ac790></pre></div></div></div><div class=\"sk-serial\"><div class=\"sk-item\"><div class=\"sk-estimator sk-toggleable\"><input class=\"sk-toggleable__control sk-hidden--visually\" id=\"efb5e2d2-f820-442e-a72f-1ac00bd7a46a\" type=\"checkbox\" ><label class=\"sk-toggleable__label\" for=\"efb5e2d2-f820-442e-a72f-1ac00bd7a46a\">MinMaxScaler</label><div class=\"sk-toggleable__content\"><pre>MinMaxScaler()</pre></div></div></div></div></div></div><div class=\"sk-parallel-item\"><div class=\"sk-item\"><div class=\"sk-label-container\"><div class=\"sk-label sk-toggleable\"><input class=\"sk-toggleable__control sk-hidden--visually\" id=\"3b90dab1-9d0f-49c7-a9ac-d28b666a0106\" type=\"checkbox\" ><label class=\"sk-toggleable__label\" for=\"3b90dab1-9d0f-49c7-a9ac-d28b666a0106\">cat_transformer</label><div class=\"sk-toggleable__content\"><pre><sklearn.compose._column_transformer.make_column_selector object at 0x1294ac8e0></pre></div></div></div><div class=\"sk-serial\"><div class=\"sk-item\"><div class=\"sk-estimator sk-toggleable\"><input class=\"sk-toggleable__control sk-hidden--visually\" id=\"cedaa81f-b35a-4905-87c7-fd9bc3c10942\" type=\"checkbox\" ><label class=\"sk-toggleable__label\" for=\"cedaa81f-b35a-4905-87c7-fd9bc3c10942\">OneHotEncoder</label><div class=\"sk-toggleable__content\"><pre>OneHotEncoder(handle_unknown='ignore')</pre></div></div></div></div></div></div><div class=\"sk-parallel-item\"><div class=\"sk-item\"><div class=\"sk-label-container\"><div class=\"sk-label sk-toggleable\"><input class=\"sk-toggleable__control sk-hidden--visually\" id=\"e1636536-0bfe-43b5-9f6a-2232fa421e9b\" type=\"checkbox\" ><label class=\"sk-toggleable__label\" for=\"e1636536-0bfe-43b5-9f6a-2232fa421e9b\">remainder</label><div class=\"sk-toggleable__content\"><pre></pre></div></div></div><div class=\"sk-serial\"><div class=\"sk-item\"><div class=\"sk-estimator sk-toggleable\"><input class=\"sk-toggleable__control sk-hidden--visually\" id=\"2bd620b9-5d53-4d34-b0f9-0124bfbbfbbb\" type=\"checkbox\" ><label class=\"sk-toggleable__label\" for=\"2bd620b9-5d53-4d34-b0f9-0124bfbbfbbb\">passthrough</label><div class=\"sk-toggleable__content\"><pre>passthrough</pre></div></div></div></div></div></div></div></div></div></div>"
      ],
      "text/plain": [
       "ColumnTransformer(remainder='passthrough',\n",
       "                  transformers=[('num_transformer', MinMaxScaler(),\n",
       "                                 <sklearn.compose._column_transformer.make_column_selector object at 0x1294ac790>),\n",
       "                                ('cat_transformer',\n",
       "                                 OneHotEncoder(handle_unknown='ignore'),\n",
       "                                 <sklearn.compose._column_transformer.make_column_selector object at 0x1294ac8e0>)])"
      ]
     },
     "execution_count": 102,
     "metadata": {},
     "output_type": "execute_result"
    }
   ],
   "source": [
    "preprocessing_basic"
   ]
  },
  {
   "cell_type": "markdown",
   "metadata": {},
   "source": [
    "## Linear Model"
   ]
  },
  {
   "cell_type": "markdown",
   "metadata": {},
   "source": [
    "**📝 Cross-validate a linear model on `X_basic` to see how it compares to your baseline.**"
   ]
  },
  {
   "cell_type": "markdown",
   "metadata": {},
   "source": [
    "Inside a pipeline, apply the basic preprocessing, then use a basic **linear** model with **no penalty**.\n",
    "\n",
    "Cross-validate your pipeline and store the scores in `scores_linear` as a `numpy.ndarray`."
   ]
  },
  {
   "cell_type": "code",
   "execution_count": 372,
   "metadata": {},
   "outputs": [],
   "source": [
    "from sklearn.model_selection import train_test_split\n",
    "X_train, X_test, y_train, y_test = train_test_split(X_basic,y, test_size=0.3, random_state=0)"
   ]
  },
  {
   "cell_type": "code",
   "execution_count": 116,
   "metadata": {
    "ExecuteTime": {
     "end_time": "2021-09-09T15:39:42.202414Z",
     "start_time": "2021-09-09T15:39:42.190310Z"
    },
    "tags": [
     "challengify"
    ]
   },
   "outputs": [],
   "source": [
    "from sklearn.linear_model import LogisticRegression\n",
    "pipeline_linear = Pipeline([\n",
    "    ('preprocessing', preprocessing_basic),\n",
    "    ('log_regression', LogisticRegression(penalty=\"none\"))])\n"
   ]
  },
  {
   "cell_type": "code",
   "execution_count": 117,
   "metadata": {
    "scrolled": true
   },
   "outputs": [
    {
     "data": {
      "text/html": [
       "<style>#sk-fa28e188-b10d-4644-8f48-e7a19dda0d22 {color: black;background-color: white;}#sk-fa28e188-b10d-4644-8f48-e7a19dda0d22 pre{padding: 0;}#sk-fa28e188-b10d-4644-8f48-e7a19dda0d22 div.sk-toggleable {background-color: white;}#sk-fa28e188-b10d-4644-8f48-e7a19dda0d22 label.sk-toggleable__label {cursor: pointer;display: block;width: 100%;margin-bottom: 0;padding: 0.2em 0.3em;box-sizing: border-box;text-align: center;}#sk-fa28e188-b10d-4644-8f48-e7a19dda0d22 div.sk-toggleable__content {max-height: 0;max-width: 0;overflow: hidden;text-align: left;background-color: #f0f8ff;}#sk-fa28e188-b10d-4644-8f48-e7a19dda0d22 div.sk-toggleable__content pre {margin: 0.2em;color: black;border-radius: 0.25em;background-color: #f0f8ff;}#sk-fa28e188-b10d-4644-8f48-e7a19dda0d22 input.sk-toggleable__control:checked~div.sk-toggleable__content {max-height: 200px;max-width: 100%;overflow: auto;}#sk-fa28e188-b10d-4644-8f48-e7a19dda0d22 div.sk-estimator input.sk-toggleable__control:checked~label.sk-toggleable__label {background-color: #d4ebff;}#sk-fa28e188-b10d-4644-8f48-e7a19dda0d22 div.sk-label input.sk-toggleable__control:checked~label.sk-toggleable__label {background-color: #d4ebff;}#sk-fa28e188-b10d-4644-8f48-e7a19dda0d22 input.sk-hidden--visually {border: 0;clip: rect(1px 1px 1px 1px);clip: rect(1px, 1px, 1px, 1px);height: 1px;margin: -1px;overflow: hidden;padding: 0;position: absolute;width: 1px;}#sk-fa28e188-b10d-4644-8f48-e7a19dda0d22 div.sk-estimator {font-family: monospace;background-color: #f0f8ff;margin: 0.25em 0.25em;border: 1px dotted black;border-radius: 0.25em;box-sizing: border-box;}#sk-fa28e188-b10d-4644-8f48-e7a19dda0d22 div.sk-estimator:hover {background-color: #d4ebff;}#sk-fa28e188-b10d-4644-8f48-e7a19dda0d22 div.sk-parallel-item::after {content: \"\";width: 100%;border-bottom: 1px solid gray;flex-grow: 1;}#sk-fa28e188-b10d-4644-8f48-e7a19dda0d22 div.sk-label:hover label.sk-toggleable__label {background-color: #d4ebff;}#sk-fa28e188-b10d-4644-8f48-e7a19dda0d22 div.sk-serial::before {content: \"\";position: absolute;border-left: 1px solid gray;box-sizing: border-box;top: 2em;bottom: 0;left: 50%;}#sk-fa28e188-b10d-4644-8f48-e7a19dda0d22 div.sk-serial {display: flex;flex-direction: column;align-items: center;background-color: white;}#sk-fa28e188-b10d-4644-8f48-e7a19dda0d22 div.sk-item {z-index: 1;}#sk-fa28e188-b10d-4644-8f48-e7a19dda0d22 div.sk-parallel {display: flex;align-items: stretch;justify-content: center;background-color: white;}#sk-fa28e188-b10d-4644-8f48-e7a19dda0d22 div.sk-parallel-item {display: flex;flex-direction: column;position: relative;background-color: white;}#sk-fa28e188-b10d-4644-8f48-e7a19dda0d22 div.sk-parallel-item:first-child::after {align-self: flex-end;width: 50%;}#sk-fa28e188-b10d-4644-8f48-e7a19dda0d22 div.sk-parallel-item:last-child::after {align-self: flex-start;width: 50%;}#sk-fa28e188-b10d-4644-8f48-e7a19dda0d22 div.sk-parallel-item:only-child::after {width: 0;}#sk-fa28e188-b10d-4644-8f48-e7a19dda0d22 div.sk-dashed-wrapped {border: 1px dashed gray;margin: 0.2em;box-sizing: border-box;padding-bottom: 0.1em;background-color: white;position: relative;}#sk-fa28e188-b10d-4644-8f48-e7a19dda0d22 div.sk-label label {font-family: monospace;font-weight: bold;background-color: white;display: inline-block;line-height: 1.2em;}#sk-fa28e188-b10d-4644-8f48-e7a19dda0d22 div.sk-label-container {position: relative;z-index: 2;text-align: center;}#sk-fa28e188-b10d-4644-8f48-e7a19dda0d22 div.sk-container {display: inline-block;position: relative;}</style><div id=\"sk-fa28e188-b10d-4644-8f48-e7a19dda0d22\" class\"sk-top-container\"><div class=\"sk-container\"><div class=\"sk-item sk-dashed-wrapped\"><div class=\"sk-label-container\"><div class=\"sk-label sk-toggleable\"><input class=\"sk-toggleable__control sk-hidden--visually\" id=\"69f3e11e-2d04-4b05-84bb-af0b5fcb76fb\" type=\"checkbox\" ><label class=\"sk-toggleable__label\" for=\"69f3e11e-2d04-4b05-84bb-af0b5fcb76fb\">Pipeline</label><div class=\"sk-toggleable__content\"><pre>Pipeline(steps=[('preprocessing',\n",
       "                 ColumnTransformer(remainder='passthrough',\n",
       "                                   transformers=[('num_transformer',\n",
       "                                                  MinMaxScaler(),\n",
       "                                                  <sklearn.compose._column_transformer.make_column_selector object at 0x1294ac790>),\n",
       "                                                 ('cat_transformer',\n",
       "                                                  OneHotEncoder(handle_unknown='ignore'),\n",
       "                                                  <sklearn.compose._column_transformer.make_column_selector object at 0x1294ac8e0>)])),\n",
       "                ('log_regression', LogisticRegression(penalty='none'))])</pre></div></div></div><div class=\"sk-serial\"><div class=\"sk-item sk-dashed-wrapped\"><div class=\"sk-label-container\"><div class=\"sk-label sk-toggleable\"><input class=\"sk-toggleable__control sk-hidden--visually\" id=\"d5a4efc7-1ac3-43fb-9855-b227596c5c6e\" type=\"checkbox\" ><label class=\"sk-toggleable__label\" for=\"d5a4efc7-1ac3-43fb-9855-b227596c5c6e\">preprocessing: ColumnTransformer</label><div class=\"sk-toggleable__content\"><pre>ColumnTransformer(remainder='passthrough',\n",
       "                  transformers=[('num_transformer', MinMaxScaler(),\n",
       "                                 <sklearn.compose._column_transformer.make_column_selector object at 0x1294ac790>),\n",
       "                                ('cat_transformer',\n",
       "                                 OneHotEncoder(handle_unknown='ignore'),\n",
       "                                 <sklearn.compose._column_transformer.make_column_selector object at 0x1294ac8e0>)])</pre></div></div></div><div class=\"sk-parallel\"><div class=\"sk-parallel-item\"><div class=\"sk-item\"><div class=\"sk-label-container\"><div class=\"sk-label sk-toggleable\"><input class=\"sk-toggleable__control sk-hidden--visually\" id=\"527fcc7d-dce5-4bb6-8a4c-86f11a447a9c\" type=\"checkbox\" ><label class=\"sk-toggleable__label\" for=\"527fcc7d-dce5-4bb6-8a4c-86f11a447a9c\">num_transformer</label><div class=\"sk-toggleable__content\"><pre><sklearn.compose._column_transformer.make_column_selector object at 0x1294ac790></pre></div></div></div><div class=\"sk-serial\"><div class=\"sk-item\"><div class=\"sk-estimator sk-toggleable\"><input class=\"sk-toggleable__control sk-hidden--visually\" id=\"ab4740eb-a8e9-4e29-b5fa-5e465b319376\" type=\"checkbox\" ><label class=\"sk-toggleable__label\" for=\"ab4740eb-a8e9-4e29-b5fa-5e465b319376\">MinMaxScaler</label><div class=\"sk-toggleable__content\"><pre>MinMaxScaler()</pre></div></div></div></div></div></div><div class=\"sk-parallel-item\"><div class=\"sk-item\"><div class=\"sk-label-container\"><div class=\"sk-label sk-toggleable\"><input class=\"sk-toggleable__control sk-hidden--visually\" id=\"6fbb31d8-afb9-4555-8636-4539e3c3eac4\" type=\"checkbox\" ><label class=\"sk-toggleable__label\" for=\"6fbb31d8-afb9-4555-8636-4539e3c3eac4\">cat_transformer</label><div class=\"sk-toggleable__content\"><pre><sklearn.compose._column_transformer.make_column_selector object at 0x1294ac8e0></pre></div></div></div><div class=\"sk-serial\"><div class=\"sk-item\"><div class=\"sk-estimator sk-toggleable\"><input class=\"sk-toggleable__control sk-hidden--visually\" id=\"286ae425-73c3-4448-8865-0c482ead1784\" type=\"checkbox\" ><label class=\"sk-toggleable__label\" for=\"286ae425-73c3-4448-8865-0c482ead1784\">OneHotEncoder</label><div class=\"sk-toggleable__content\"><pre>OneHotEncoder(handle_unknown='ignore')</pre></div></div></div></div></div></div><div class=\"sk-parallel-item\"><div class=\"sk-item\"><div class=\"sk-label-container\"><div class=\"sk-label sk-toggleable\"><input class=\"sk-toggleable__control sk-hidden--visually\" id=\"e35a1f12-9966-4d27-9305-a5eb32fb11af\" type=\"checkbox\" ><label class=\"sk-toggleable__label\" for=\"e35a1f12-9966-4d27-9305-a5eb32fb11af\">remainder</label><div class=\"sk-toggleable__content\"><pre>[['measure_index', 'measure_moisture', 'measure_temperature', 'measure_chemicals', 'measure_biodiversity', 'main_element', 'soil_condition']]</pre></div></div></div><div class=\"sk-serial\"><div class=\"sk-item\"><div class=\"sk-estimator sk-toggleable\"><input class=\"sk-toggleable__control sk-hidden--visually\" id=\"6d2a437e-b094-419d-bf84-73469416c7ef\" type=\"checkbox\" ><label class=\"sk-toggleable__label\" for=\"6d2a437e-b094-419d-bf84-73469416c7ef\">passthrough</label><div class=\"sk-toggleable__content\"><pre>passthrough</pre></div></div></div></div></div></div></div></div><div class=\"sk-item\"><div class=\"sk-estimator sk-toggleable\"><input class=\"sk-toggleable__control sk-hidden--visually\" id=\"8024c9ad-9dcb-4e01-951e-c62ed2efad27\" type=\"checkbox\" ><label class=\"sk-toggleable__label\" for=\"8024c9ad-9dcb-4e01-951e-c62ed2efad27\">LogisticRegression</label><div class=\"sk-toggleable__content\"><pre>LogisticRegression(penalty='none')</pre></div></div></div></div></div></div></div>"
      ],
      "text/plain": [
       "Pipeline(steps=[('preprocessing',\n",
       "                 ColumnTransformer(remainder='passthrough',\n",
       "                                   transformers=[('num_transformer',\n",
       "                                                  MinMaxScaler(),\n",
       "                                                  <sklearn.compose._column_transformer.make_column_selector object at 0x1294ac790>),\n",
       "                                                 ('cat_transformer',\n",
       "                                                  OneHotEncoder(handle_unknown='ignore'),\n",
       "                                                  <sklearn.compose._column_transformer.make_column_selector object at 0x1294ac8e0>)])),\n",
       "                ('log_regression', LogisticRegression(penalty='none'))])"
      ]
     },
     "execution_count": 117,
     "metadata": {},
     "output_type": "execute_result"
    }
   ],
   "source": [
    "pipeline_linear"
   ]
  },
  {
   "cell_type": "code",
   "execution_count": 198,
   "metadata": {},
   "outputs": [],
   "source": [
    "from sklearn.model_selection import cross_val_score\n",
    "\n",
    "# Cross validate pipeline\n",
    "scores_linear=cross_val_score(pipeline_linear, X_train, y_train, cv=5, scoring='precision')"
   ]
  },
  {
   "cell_type": "code",
   "execution_count": 199,
   "metadata": {},
   "outputs": [
    {
     "data": {
      "text/plain": [
       "array([0.78666667, 0.80576923, 0.80426357, 0.78666667, 0.77573529])"
      ]
     },
     "execution_count": 199,
     "metadata": {},
     "output_type": "execute_result"
    }
   ],
   "source": [
    "scores_linear"
   ]
  },
  {
   "cell_type": "markdown",
   "metadata": {},
   "source": [
    "**❓ Does your model beat the baseline? Do you reach your goal?**"
   ]
  },
  {
   "cell_type": "markdown",
   "metadata": {
    "tags": [
     "challengify"
    ]
   },
   "source": [
    "Oui! La précision est meilleure"
   ]
  },
  {
   "cell_type": "markdown",
   "metadata": {},
   "source": [
    "### 💾 Save your results\n",
    "\n",
    "Run the cell below to save your results."
   ]
  },
  {
   "cell_type": "code",
   "execution_count": 120,
   "metadata": {
    "ExecuteTime": {
     "end_time": "2021-09-09T15:39:42.999830Z",
     "start_time": "2021-09-09T15:39:37.573Z"
    }
   },
   "outputs": [],
   "source": [
    "from nbresult import ChallengeResult\n",
    "X_preproc=preprocessing_basic.fit_transform(X_basic)\n",
    "from sklearn.model_selection import train_test_split\n",
    "X_,X_val,y_,y_val = train_test_split(X_basic,y,test_size=0.3,random_state=10)\n",
    "pipe=pipeline_linear.fit(X_,y_)\n",
    "\n",
    "result = ChallengeResult(\n",
    "    'basic_pipeline',\n",
    "    preproc=preprocessing_basic,\n",
    "    preproc_shape=X_preproc.shape,\n",
    "    pipe=pipeline_linear,\n",
    "    y=y_val,\n",
    "    y_pred=pipeline_linear.predict(X_val),\n",
    "    scores=scores_linear\n",
    ")\n",
    "result.write()"
   ]
  },
  {
   "cell_type": "markdown",
   "metadata": {},
   "source": [
    "## Feature Engineering"
   ]
  },
  {
   "cell_type": "markdown",
   "metadata": {},
   "source": [
    "💡 We are going to look more closely at the features and try to enhance our preprocessing."
   ]
  },
  {
   "cell_type": "markdown",
   "metadata": {},
   "source": [
    "### Enhanced `soil_condition` Encoding"
   ]
  },
  {
   "cell_type": "markdown",
   "metadata": {},
   "source": [
    "**📝 Check the possible values of the feature `soil_condition`**"
   ]
  },
  {
   "cell_type": "code",
   "execution_count": 162,
   "metadata": {
    "ExecuteTime": {
     "end_time": "2021-09-09T15:39:43.001593Z",
     "start_time": "2021-09-09T15:39:37.585Z"
    },
    "tags": [
     "challengify"
    ]
   },
   "outputs": [
    {
     "data": {
      "text/plain": [
       "array(['normal', 'rich', 'poor'], dtype=object)"
      ]
     },
     "execution_count": 162,
     "metadata": {},
     "output_type": "execute_result"
    }
   ],
   "source": [
    "X_basic.soil_condition.unique()"
   ]
  },
  {
   "cell_type": "markdown",
   "metadata": {},
   "source": [
    "**❓ Can you a better way to encode the `soil_condition` feature?**"
   ]
  },
  {
   "cell_type": "markdown",
   "metadata": {
    "tags": [
     "challengify"
    ]
   },
   "source": [
    "Encodage numérique --> OrdinalEncoder"
   ]
  },
  {
   "cell_type": "markdown",
   "metadata": {},
   "source": [
    "**📝 Select a transformer keeping a sense of the order of the values of `soil_condition` to encode that feature.** \n",
    "\n",
    "Encode `soil_condition` from `X` with that relevant encoder and store the result in `X_soil_condition_encoded` as a `numpy.ndarray`."
   ]
  },
  {
   "cell_type": "code",
   "execution_count": 359,
   "metadata": {},
   "outputs": [],
   "source": [
    "from sklearn.preprocessing import OrdinalEncoder\n",
    "\n",
    "lab_enc = OrdinalEncoder(categories=[[\"poor\",\"normal\",\"rich\"]])\n",
    "X_soil_condition_encoded= lab_enc.fit_transform(X[[\"soil_condition\"]])"
   ]
  },
  {
   "cell_type": "code",
   "execution_count": 360,
   "metadata": {},
   "outputs": [
    {
     "data": {
      "text/plain": [
       "array([[1.],\n",
       "       [2.],\n",
       "       [1.],\n",
       "       ...,\n",
       "       [2.],\n",
       "       [0.],\n",
       "       [1.]])"
      ]
     },
     "execution_count": 360,
     "metadata": {},
     "output_type": "execute_result"
    }
   ],
   "source": [
    "X_soil_condition_encoded"
   ]
  },
  {
   "cell_type": "markdown",
   "metadata": {},
   "source": [
    "**📝 Make sure that it works properly.**\n",
    "\n",
    "Check the value counts for the feature `soil_condition`"
   ]
  },
  {
   "cell_type": "code",
   "execution_count": 361,
   "metadata": {
    "ExecuteTime": {
     "end_time": "2021-09-09T15:39:43.004518Z",
     "start_time": "2021-09-09T15:39:37.597Z"
    },
    "tags": [
     "challengify"
    ]
   },
   "outputs": [
    {
     "data": {
      "text/plain": [
       "normal    4076\n",
       "poor      2456\n",
       "rich      1606\n",
       "Name: soil_condition, dtype: int64"
      ]
     },
     "execution_count": 361,
     "metadata": {},
     "output_type": "execute_result"
    }
   ],
   "source": [
    "X.soil_condition.value_counts()"
   ]
  },
  {
   "cell_type": "markdown",
   "metadata": {},
   "source": [
    "**📝 Check it again,  after transformation with the relevant encoder:**"
   ]
  },
  {
   "cell_type": "code",
   "execution_count": 362,
   "metadata": {
    "ExecuteTime": {
     "end_time": "2021-09-08T08:04:46.386517Z",
     "start_time": "2021-09-08T08:04:46.363133Z"
    },
    "tags": [
     "challengify"
    ]
   },
   "outputs": [
    {
     "data": {
      "text/plain": [
       "1.0    4076\n",
       "0.0    2456\n",
       "2.0    1606\n",
       "dtype: int64"
      ]
     },
     "execution_count": 362,
     "metadata": {},
     "output_type": "execute_result"
    }
   ],
   "source": [
    "pd.DataFrame(X_soil_condition_encoded).value_counts()"
   ]
  },
  {
   "cell_type": "markdown",
   "metadata": {},
   "source": [
    "### Custom Time Transformers"
   ]
  },
  {
   "cell_type": "markdown",
   "metadata": {},
   "source": [
    "#### Datetime Features Extraction"
   ]
  },
  {
   "cell_type": "markdown",
   "metadata": {},
   "source": [
    "💡  We want to extract two information from our time features"
   ]
  },
  {
   "cell_type": "markdown",
   "metadata": {
    "ExecuteTime": {
     "end_time": "2021-08-26T15:39:59.268983Z",
     "start_time": "2021-08-26T15:39:59.246286Z"
    }
   },
   "source": [
    "📅 The `month` of the experiment's start\n",
    "\n",
    "⏳ The `duration` of the experiment in an appropriate unit"
   ]
  },
  {
   "cell_type": "markdown",
   "metadata": {},
   "source": [
    "**📝 Compute the `duration` of experiments, and look at the statistics.**"
   ]
  },
  {
   "cell_type": "code",
   "execution_count": 122,
   "metadata": {},
   "outputs": [
    {
     "data": {
      "text/html": [
       "<div>\n",
       "<style scoped>\n",
       "    .dataframe tbody tr th:only-of-type {\n",
       "        vertical-align: middle;\n",
       "    }\n",
       "\n",
       "    .dataframe tbody tr th {\n",
       "        vertical-align: top;\n",
       "    }\n",
       "\n",
       "    .dataframe thead th {\n",
       "        text-align: right;\n",
       "    }\n",
       "</style>\n",
       "<table border=\"1\" class=\"dataframe\">\n",
       "  <thead>\n",
       "    <tr style=\"text-align: right;\">\n",
       "      <th></th>\n",
       "      <th>measure_index</th>\n",
       "      <th>measure_moisture</th>\n",
       "      <th>measure_temperature</th>\n",
       "      <th>measure_chemicals</th>\n",
       "      <th>measure_biodiversity</th>\n",
       "      <th>main_element</th>\n",
       "      <th>soil_condition</th>\n",
       "      <th>datetime_start</th>\n",
       "      <th>datetime_end</th>\n",
       "    </tr>\n",
       "  </thead>\n",
       "  <tbody>\n",
       "    <tr>\n",
       "      <th>0</th>\n",
       "      <td>1.875085</td>\n",
       "      <td>24.442232</td>\n",
       "      <td>18.510316</td>\n",
       "      <td>5.715697</td>\n",
       "      <td>521.074105</td>\n",
       "      <td>Na</td>\n",
       "      <td>normal</td>\n",
       "      <td>2017-06-27 16:53:42</td>\n",
       "      <td>2017-06-27 20:05:36</td>\n",
       "    </tr>\n",
       "    <tr>\n",
       "      <th>1</th>\n",
       "      <td>7.658911</td>\n",
       "      <td>30.121175</td>\n",
       "      <td>17.050250</td>\n",
       "      <td>1.973804</td>\n",
       "      <td>314.443474</td>\n",
       "      <td>Ca</td>\n",
       "      <td>rich</td>\n",
       "      <td>2018-12-10 07:06:56</td>\n",
       "      <td>2018-12-10 11:43:29</td>\n",
       "    </tr>\n",
       "    <tr>\n",
       "      <th>2</th>\n",
       "      <td>18.000212</td>\n",
       "      <td>34.188025</td>\n",
       "      <td>17.157393</td>\n",
       "      <td>3.658506</td>\n",
       "      <td>361.796180</td>\n",
       "      <td>Al</td>\n",
       "      <td>normal</td>\n",
       "      <td>2018-10-04 18:45:29</td>\n",
       "      <td>2018-10-04 23:20:38</td>\n",
       "    </tr>\n",
       "    <tr>\n",
       "      <th>3</th>\n",
       "      <td>4.056764</td>\n",
       "      <td>37.462768</td>\n",
       "      <td>13.275961</td>\n",
       "      <td>6.666983</td>\n",
       "      <td>402.016494</td>\n",
       "      <td>Ca</td>\n",
       "      <td>normal</td>\n",
       "      <td>2018-10-03 08:03:36</td>\n",
       "      <td>2018-10-03 10:56:40</td>\n",
       "    </tr>\n",
       "    <tr>\n",
       "      <th>4</th>\n",
       "      <td>53.271676</td>\n",
       "      <td>31.425482</td>\n",
       "      <td>17.433458</td>\n",
       "      <td>1.940748</td>\n",
       "      <td>978.383654</td>\n",
       "      <td>Si</td>\n",
       "      <td>poor</td>\n",
       "      <td>2018-07-20 09:27:34</td>\n",
       "      <td>2018-07-20 13:48:30</td>\n",
       "    </tr>\n",
       "  </tbody>\n",
       "</table>\n",
       "</div>"
      ],
      "text/plain": [
       "   measure_index  measure_moisture  measure_temperature  measure_chemicals  \\\n",
       "0       1.875085         24.442232            18.510316           5.715697   \n",
       "1       7.658911         30.121175            17.050250           1.973804   \n",
       "2      18.000212         34.188025            17.157393           3.658506   \n",
       "3       4.056764         37.462768            13.275961           6.666983   \n",
       "4      53.271676         31.425482            17.433458           1.940748   \n",
       "\n",
       "   measure_biodiversity main_element soil_condition       datetime_start  \\\n",
       "0            521.074105           Na         normal  2017-06-27 16:53:42   \n",
       "1            314.443474           Ca           rich  2018-12-10 07:06:56   \n",
       "2            361.796180           Al         normal  2018-10-04 18:45:29   \n",
       "3            402.016494           Ca         normal  2018-10-03 08:03:36   \n",
       "4            978.383654           Si           poor  2018-07-20 09:27:34   \n",
       "\n",
       "          datetime_end  \n",
       "0  2017-06-27 20:05:36  \n",
       "1  2018-12-10 11:43:29  \n",
       "2  2018-10-04 23:20:38  \n",
       "3  2018-10-03 10:56:40  \n",
       "4  2018-07-20 13:48:30  "
      ]
     },
     "execution_count": 122,
     "metadata": {},
     "output_type": "execute_result"
    }
   ],
   "source": [
    "X.head()"
   ]
  },
  {
   "cell_type": "code",
   "execution_count": 124,
   "metadata": {
    "ExecuteTime": {
     "end_time": "2021-09-09T15:39:43.008118Z",
     "start_time": "2021-09-09T15:39:37.616Z"
    },
    "tags": [
     "challengify"
    ]
   },
   "outputs": [],
   "source": [
    "X[\"datetime_start\"]=pd.to_datetime(X[\"datetime_start\"],format=\"%Y-%m-%d %H:%M:%S\")"
   ]
  },
  {
   "cell_type": "code",
   "execution_count": 125,
   "metadata": {},
   "outputs": [],
   "source": [
    "X[\"datetime_end\"]=pd.to_datetime(X[\"datetime_end\"],format=\"%Y-%m-%d %H:%M:%S\")"
   ]
  },
  {
   "cell_type": "code",
   "execution_count": 128,
   "metadata": {},
   "outputs": [],
   "source": [
    "duration=X[\"datetime_end\"]-X[\"datetime_start\"]"
   ]
  },
  {
   "cell_type": "code",
   "execution_count": 140,
   "metadata": {
    "scrolled": true
   },
   "outputs": [
    {
     "data": {
      "text/plain": [
       "0       3.198333\n",
       "1       4.609167\n",
       "2       4.585833\n",
       "3       2.884444\n",
       "4       4.348889\n",
       "          ...   \n",
       "8297    2.016944\n",
       "8298    3.539722\n",
       "8299    2.437222\n",
       "8300    2.835278\n",
       "8301    4.770833\n",
       "Length: 8138, dtype: float64"
      ]
     },
     "execution_count": 140,
     "metadata": {},
     "output_type": "execute_result"
    }
   ],
   "source": [
    "duration/ np.timedelta64(1, 'h')"
   ]
  },
  {
   "cell_type": "markdown",
   "metadata": {},
   "source": [
    "**❓ What is the most accurate time unit to use to describe the `duration` feature?**\n",
    "\n",
    "**📝 Choose between `['days', 'hours', 'minutes', 'seconds']` and store your choice in the `duration_time_unit` variable:**"
   ]
  },
  {
   "cell_type": "code",
   "execution_count": 141,
   "metadata": {
    "tags": [
     "challengify"
    ]
   },
   "outputs": [],
   "source": [
    "duration_time_unit=\"hours\""
   ]
  },
  {
   "cell_type": "markdown",
   "metadata": {},
   "source": [
    "**📝 Create a `TimeFeaturesExtractor` class that transforms `datetime_start` and `datetime_end` into `month` and `duration`:**\n",
    "- `month` as a number from 1 to 12\n",
    "- `duration` as a float in the relevant `duration_time_unit`"
   ]
  },
  {
   "cell_type": "code",
   "execution_count": 273,
   "metadata": {},
   "outputs": [],
   "source": [
    "from sklearn.base import TransformerMixin, BaseEstimator\n",
    "\n",
    "class TimeFeaturesExtractor(TransformerMixin, BaseEstimator): \n",
    "# TransformerMixin generates a fit_transform method from fit and transform\n",
    "# BaseEstimator generates get_params and set_params methods\n",
    "    \n",
    "    def fit(self, X, y=None):\n",
    "        return self\n",
    "    \n",
    "    def transform(self, X, y=None):\n",
    "        X_start = pd.to_datetime(X[\"datetime_start\"],format=\"%Y-%m-%d %H:%M:%S\")\n",
    "        X_end = pd.to_datetime(X[\"datetime_end\"],format=\"%Y-%m-%d %H:%M:%S\")\n",
    "        X_transformed=pd.DataFrame({\"month\":X_start.dt.month})\n",
    "        X_transformed['duration']=(X_end-X_start)/np.timedelta64(1, 'h')\n",
    "        # Return result as dataframe for integration into ColumnTransformer\n",
    "        return X_transformed\n"
   ]
  },
  {
   "cell_type": "markdown",
   "metadata": {},
   "source": [
    "**📝 Apply your `TimeFeaturesExtractor` to _100 rows_ of `X` and store the result in a DataFrame `X_time_features`**\n",
    "\n",
    "Double check that it has **2 columns**: `month` and `duration`, and **100 rows**"
   ]
  },
  {
   "cell_type": "code",
   "execution_count": 274,
   "metadata": {
    "ExecuteTime": {
     "end_time": "2021-09-09T15:39:43.011279Z",
     "start_time": "2021-09-09T15:39:37.632Z"
    },
    "tags": [
     "challengify"
    ]
   },
   "outputs": [],
   "source": [
    "X_time_features=TimeFeaturesExtractor().fit_transform(X[[\"datetime_start\",\"datetime_end\"]].head(100))"
   ]
  },
  {
   "cell_type": "code",
   "execution_count": 275,
   "metadata": {},
   "outputs": [
    {
     "data": {
      "text/plain": [
       "(100, 2)"
      ]
     },
     "execution_count": 275,
     "metadata": {},
     "output_type": "execute_result"
    }
   ],
   "source": [
    "X_time_features.shape"
   ]
  },
  {
   "cell_type": "code",
   "execution_count": 276,
   "metadata": {},
   "outputs": [
    {
     "data": {
      "text/html": [
       "<div>\n",
       "<style scoped>\n",
       "    .dataframe tbody tr th:only-of-type {\n",
       "        vertical-align: middle;\n",
       "    }\n",
       "\n",
       "    .dataframe tbody tr th {\n",
       "        vertical-align: top;\n",
       "    }\n",
       "\n",
       "    .dataframe thead th {\n",
       "        text-align: right;\n",
       "    }\n",
       "</style>\n",
       "<table border=\"1\" class=\"dataframe\">\n",
       "  <thead>\n",
       "    <tr style=\"text-align: right;\">\n",
       "      <th></th>\n",
       "      <th>month</th>\n",
       "      <th>duration</th>\n",
       "    </tr>\n",
       "  </thead>\n",
       "  <tbody>\n",
       "    <tr>\n",
       "      <th>0</th>\n",
       "      <td>6</td>\n",
       "      <td>3.198333</td>\n",
       "    </tr>\n",
       "    <tr>\n",
       "      <th>1</th>\n",
       "      <td>12</td>\n",
       "      <td>4.609167</td>\n",
       "    </tr>\n",
       "    <tr>\n",
       "      <th>2</th>\n",
       "      <td>10</td>\n",
       "      <td>4.585833</td>\n",
       "    </tr>\n",
       "    <tr>\n",
       "      <th>3</th>\n",
       "      <td>10</td>\n",
       "      <td>2.884444</td>\n",
       "    </tr>\n",
       "    <tr>\n",
       "      <th>4</th>\n",
       "      <td>7</td>\n",
       "      <td>4.348889</td>\n",
       "    </tr>\n",
       "  </tbody>\n",
       "</table>\n",
       "</div>"
      ],
      "text/plain": [
       "   month  duration\n",
       "0      6  3.198333\n",
       "1     12  4.609167\n",
       "2     10  4.585833\n",
       "3     10  2.884444\n",
       "4      7  4.348889"
      ]
     },
     "execution_count": 276,
     "metadata": {},
     "output_type": "execute_result"
    }
   ],
   "source": [
    "X_time_features.head()"
   ]
  },
  {
   "cell_type": "markdown",
   "metadata": {},
   "source": [
    "#### Cyclical Encoding & Scaling"
   ]
  },
  {
   "cell_type": "markdown",
   "metadata": {},
   "source": [
    "💡 We now have to encode and scale the extracted time features!  "
   ]
  },
  {
   "cell_type": "markdown",
   "metadata": {},
   "source": [
    "You should scale the `duration` between 0 and 1.  \n",
    "\n",
    "However we need to build a **Cyclical Encoder** for the `month`."
   ]
  },
  {
   "cell_type": "markdown",
   "metadata": {},
   "source": [
    "**📝Create a `CyclicalEncoder` class that transforms `month` into `month_cos` and `month_sin`.**"
   ]
  },
  {
   "cell_type": "markdown",
   "metadata": {},
   "source": [
    "Recall the equations:  \n",
    "\n",
    "$month\\_norm = 2\\pi\\frac{month}{12}$  \n",
    "$month\\_cos = \\cos({month\\_norm})$  \n",
    "$month\\_sin = \\sin({month\\_norm})$"
   ]
  },
  {
   "cell_type": "code",
   "execution_count": 304,
   "metadata": {
    "ExecuteTime": {
     "end_time": "2021-09-09T15:39:43.012084Z",
     "start_time": "2021-09-09T15:39:37.640Z"
    },
    "tags": [
     "challengify"
    ]
   },
   "outputs": [],
   "source": [
    "import math\n",
    "\n",
    "class CyclicalEncoder(TransformerMixin, BaseEstimator): \n",
    "# TransformerMixin generates a fit_transform method from fit and transform\n",
    "# BaseEstimator generates get_params and set_params methods\n",
    "    \n",
    "    def __init__(self):\n",
    "        self.pi=math.pi\n",
    "    \n",
    "    def fit(self, X, y=None):\n",
    "        return self\n",
    "    \n",
    "    def transform(self, X, y=None):\n",
    "        norm=2*self.pi*(X[\"month\"]/12)\n",
    "        X_transformed=pd.DataFrame({\"month_cos\":np.cos(norm)})\n",
    "        X_transformed['month_sin']=np.sin(norm)\n",
    "        # Return result as dataframe for integration into ColumnTransformer\n",
    "        return X_transformed"
   ]
  },
  {
   "cell_type": "markdown",
   "metadata": {},
   "source": [
    "**📝 Apply your `CyclicalEncoder` to `X_time_features` and store the result in a DataFrame `X_time_cyclical`.**\n",
    "\n",
    "Double check that it has **2 columns**: `month_cos` and `month_sin`, and **100 rows**"
   ]
  },
  {
   "cell_type": "code",
   "execution_count": 306,
   "metadata": {
    "ExecuteTime": {
     "end_time": "2021-09-09T15:39:43.012914Z",
     "start_time": "2021-09-09T15:39:37.646Z"
    },
    "tags": [
     "challengify"
    ]
   },
   "outputs": [],
   "source": [
    "X_time_cyclical=CyclicalEncoder().fit_transform(X_time_features)"
   ]
  },
  {
   "cell_type": "code",
   "execution_count": 307,
   "metadata": {},
   "outputs": [
    {
     "data": {
      "text/plain": [
       "(100, 2)"
      ]
     },
     "execution_count": 307,
     "metadata": {},
     "output_type": "execute_result"
    }
   ],
   "source": [
    "X_time_cyclical.shape"
   ]
  },
  {
   "cell_type": "code",
   "execution_count": 308,
   "metadata": {},
   "outputs": [
    {
     "data": {
      "text/plain": [
       "Index(['month_cos', 'month_sin'], dtype='object')"
      ]
     },
     "execution_count": 308,
     "metadata": {},
     "output_type": "execute_result"
    }
   ],
   "source": [
    "X_time_cyclical.columns"
   ]
  },
  {
   "cell_type": "markdown",
   "metadata": {},
   "source": [
    "**📝 Build a pipeline, that contains all the steps for time features.**\n",
    "\n",
    "Store it in a variable `preprocessing_time`"
   ]
  },
  {
   "cell_type": "markdown",
   "metadata": {},
   "source": [
    "**Steps**\n",
    "\n",
    "- Extraction of `month` and `duration` from  `datetime_start` and `datetime_end`  \n",
    "- Scaling of `duration` between 0 and 1\n",
    "- Cyclical encoding of `month`"
   ]
  },
  {
   "cell_type": "code",
   "execution_count": 313,
   "metadata": {},
   "outputs": [],
   "source": [
    "post_extract=ColumnTransformer([\n",
    "    ('cyclical_encoding', CyclicalEncoder(),[\"month\"]),\n",
    "    ('scale_duration',MinMaxScaler(),[\"duration\"])\n",
    "])"
   ]
  },
  {
   "cell_type": "code",
   "execution_count": 314,
   "metadata": {
    "ExecuteTime": {
     "end_time": "2021-09-09T15:39:43.013690Z",
     "start_time": "2021-09-09T15:39:37.652Z"
    },
    "tags": [
     "challengify"
    ]
   },
   "outputs": [],
   "source": [
    "preprocessing_time=Pipeline([\n",
    "    ('month_duration', TimeFeaturesExtractor()),\n",
    "    ('scale_cycling', post_extract)\n",
    "])"
   ]
  },
  {
   "cell_type": "code",
   "execution_count": 315,
   "metadata": {},
   "outputs": [
    {
     "data": {
      "text/html": [
       "<style>#sk-319adf3b-5eed-4163-b82a-1ca61f5365fa {color: black;background-color: white;}#sk-319adf3b-5eed-4163-b82a-1ca61f5365fa pre{padding: 0;}#sk-319adf3b-5eed-4163-b82a-1ca61f5365fa div.sk-toggleable {background-color: white;}#sk-319adf3b-5eed-4163-b82a-1ca61f5365fa label.sk-toggleable__label {cursor: pointer;display: block;width: 100%;margin-bottom: 0;padding: 0.2em 0.3em;box-sizing: border-box;text-align: center;}#sk-319adf3b-5eed-4163-b82a-1ca61f5365fa div.sk-toggleable__content {max-height: 0;max-width: 0;overflow: hidden;text-align: left;background-color: #f0f8ff;}#sk-319adf3b-5eed-4163-b82a-1ca61f5365fa div.sk-toggleable__content pre {margin: 0.2em;color: black;border-radius: 0.25em;background-color: #f0f8ff;}#sk-319adf3b-5eed-4163-b82a-1ca61f5365fa input.sk-toggleable__control:checked~div.sk-toggleable__content {max-height: 200px;max-width: 100%;overflow: auto;}#sk-319adf3b-5eed-4163-b82a-1ca61f5365fa div.sk-estimator input.sk-toggleable__control:checked~label.sk-toggleable__label {background-color: #d4ebff;}#sk-319adf3b-5eed-4163-b82a-1ca61f5365fa div.sk-label input.sk-toggleable__control:checked~label.sk-toggleable__label {background-color: #d4ebff;}#sk-319adf3b-5eed-4163-b82a-1ca61f5365fa input.sk-hidden--visually {border: 0;clip: rect(1px 1px 1px 1px);clip: rect(1px, 1px, 1px, 1px);height: 1px;margin: -1px;overflow: hidden;padding: 0;position: absolute;width: 1px;}#sk-319adf3b-5eed-4163-b82a-1ca61f5365fa div.sk-estimator {font-family: monospace;background-color: #f0f8ff;margin: 0.25em 0.25em;border: 1px dotted black;border-radius: 0.25em;box-sizing: border-box;}#sk-319adf3b-5eed-4163-b82a-1ca61f5365fa div.sk-estimator:hover {background-color: #d4ebff;}#sk-319adf3b-5eed-4163-b82a-1ca61f5365fa div.sk-parallel-item::after {content: \"\";width: 100%;border-bottom: 1px solid gray;flex-grow: 1;}#sk-319adf3b-5eed-4163-b82a-1ca61f5365fa div.sk-label:hover label.sk-toggleable__label {background-color: #d4ebff;}#sk-319adf3b-5eed-4163-b82a-1ca61f5365fa div.sk-serial::before {content: \"\";position: absolute;border-left: 1px solid gray;box-sizing: border-box;top: 2em;bottom: 0;left: 50%;}#sk-319adf3b-5eed-4163-b82a-1ca61f5365fa div.sk-serial {display: flex;flex-direction: column;align-items: center;background-color: white;}#sk-319adf3b-5eed-4163-b82a-1ca61f5365fa div.sk-item {z-index: 1;}#sk-319adf3b-5eed-4163-b82a-1ca61f5365fa div.sk-parallel {display: flex;align-items: stretch;justify-content: center;background-color: white;}#sk-319adf3b-5eed-4163-b82a-1ca61f5365fa div.sk-parallel-item {display: flex;flex-direction: column;position: relative;background-color: white;}#sk-319adf3b-5eed-4163-b82a-1ca61f5365fa div.sk-parallel-item:first-child::after {align-self: flex-end;width: 50%;}#sk-319adf3b-5eed-4163-b82a-1ca61f5365fa div.sk-parallel-item:last-child::after {align-self: flex-start;width: 50%;}#sk-319adf3b-5eed-4163-b82a-1ca61f5365fa div.sk-parallel-item:only-child::after {width: 0;}#sk-319adf3b-5eed-4163-b82a-1ca61f5365fa div.sk-dashed-wrapped {border: 1px dashed gray;margin: 0.2em;box-sizing: border-box;padding-bottom: 0.1em;background-color: white;position: relative;}#sk-319adf3b-5eed-4163-b82a-1ca61f5365fa div.sk-label label {font-family: monospace;font-weight: bold;background-color: white;display: inline-block;line-height: 1.2em;}#sk-319adf3b-5eed-4163-b82a-1ca61f5365fa div.sk-label-container {position: relative;z-index: 2;text-align: center;}#sk-319adf3b-5eed-4163-b82a-1ca61f5365fa div.sk-container {display: inline-block;position: relative;}</style><div id=\"sk-319adf3b-5eed-4163-b82a-1ca61f5365fa\" class\"sk-top-container\"><div class=\"sk-container\"><div class=\"sk-item sk-dashed-wrapped\"><div class=\"sk-label-container\"><div class=\"sk-label sk-toggleable\"><input class=\"sk-toggleable__control sk-hidden--visually\" id=\"e7262e47-b5c3-495f-95e6-870c1fcb34a7\" type=\"checkbox\" ><label class=\"sk-toggleable__label\" for=\"e7262e47-b5c3-495f-95e6-870c1fcb34a7\">Pipeline</label><div class=\"sk-toggleable__content\"><pre>Pipeline(steps=[('month_duration', TimeFeaturesExtractor()),\n",
       "                ('scale_cycling',\n",
       "                 ColumnTransformer(transformers=[('cyclical_encoding',\n",
       "                                                  CyclicalEncoder(),\n",
       "                                                  ['month']),\n",
       "                                                 ('scale_duration',\n",
       "                                                  MinMaxScaler(),\n",
       "                                                  ['duration'])]))])</pre></div></div></div><div class=\"sk-serial\"><div class=\"sk-item\"><div class=\"sk-estimator sk-toggleable\"><input class=\"sk-toggleable__control sk-hidden--visually\" id=\"2bff3c47-2e1b-4f30-8406-f4d46440d130\" type=\"checkbox\" ><label class=\"sk-toggleable__label\" for=\"2bff3c47-2e1b-4f30-8406-f4d46440d130\">TimeFeaturesExtractor</label><div class=\"sk-toggleable__content\"><pre>TimeFeaturesExtractor()</pre></div></div></div><div class=\"sk-item sk-dashed-wrapped\"><div class=\"sk-label-container\"><div class=\"sk-label sk-toggleable\"><input class=\"sk-toggleable__control sk-hidden--visually\" id=\"bc88b53b-a14f-4db2-ad68-f8dae4cea915\" type=\"checkbox\" ><label class=\"sk-toggleable__label\" for=\"bc88b53b-a14f-4db2-ad68-f8dae4cea915\">scale_cycling: ColumnTransformer</label><div class=\"sk-toggleable__content\"><pre>ColumnTransformer(transformers=[('cyclical_encoding', CyclicalEncoder(),\n",
       "                                 ['month']),\n",
       "                                ('scale_duration', MinMaxScaler(),\n",
       "                                 ['duration'])])</pre></div></div></div><div class=\"sk-parallel\"><div class=\"sk-parallel-item\"><div class=\"sk-item\"><div class=\"sk-label-container\"><div class=\"sk-label sk-toggleable\"><input class=\"sk-toggleable__control sk-hidden--visually\" id=\"01589c32-049f-47a6-b78e-e8f825edc27c\" type=\"checkbox\" ><label class=\"sk-toggleable__label\" for=\"01589c32-049f-47a6-b78e-e8f825edc27c\">cyclical_encoding</label><div class=\"sk-toggleable__content\"><pre>['month']</pre></div></div></div><div class=\"sk-serial\"><div class=\"sk-item\"><div class=\"sk-estimator sk-toggleable\"><input class=\"sk-toggleable__control sk-hidden--visually\" id=\"f046c1ec-7efc-4749-92d3-c15e4ad1c129\" type=\"checkbox\" ><label class=\"sk-toggleable__label\" for=\"f046c1ec-7efc-4749-92d3-c15e4ad1c129\">CyclicalEncoder</label><div class=\"sk-toggleable__content\"><pre>CyclicalEncoder()</pre></div></div></div></div></div></div><div class=\"sk-parallel-item\"><div class=\"sk-item\"><div class=\"sk-label-container\"><div class=\"sk-label sk-toggleable\"><input class=\"sk-toggleable__control sk-hidden--visually\" id=\"4926e1ac-e7cc-4565-ac09-3fad228e2666\" type=\"checkbox\" ><label class=\"sk-toggleable__label\" for=\"4926e1ac-e7cc-4565-ac09-3fad228e2666\">scale_duration</label><div class=\"sk-toggleable__content\"><pre>['duration']</pre></div></div></div><div class=\"sk-serial\"><div class=\"sk-item\"><div class=\"sk-estimator sk-toggleable\"><input class=\"sk-toggleable__control sk-hidden--visually\" id=\"92bde9e9-7df7-49d5-a7cc-bc177b1d1df1\" type=\"checkbox\" ><label class=\"sk-toggleable__label\" for=\"92bde9e9-7df7-49d5-a7cc-bc177b1d1df1\">MinMaxScaler</label><div class=\"sk-toggleable__content\"><pre>MinMaxScaler()</pre></div></div></div></div></div></div></div></div></div></div></div></div>"
      ],
      "text/plain": [
       "Pipeline(steps=[('month_duration', TimeFeaturesExtractor()),\n",
       "                ('scale_cycling',\n",
       "                 ColumnTransformer(transformers=[('cyclical_encoding',\n",
       "                                                  CyclicalEncoder(),\n",
       "                                                  ['month']),\n",
       "                                                 ('scale_duration',\n",
       "                                                  MinMaxScaler(),\n",
       "                                                  ['duration'])]))])"
      ]
     },
     "execution_count": 315,
     "metadata": {},
     "output_type": "execute_result"
    }
   ],
   "source": [
    "preprocessing_time"
   ]
  },
  {
   "cell_type": "code",
   "execution_count": 316,
   "metadata": {},
   "outputs": [
    {
     "data": {
      "text/plain": [
       "array([[-1.00000000e+00,  1.22464680e-16,  5.49465055e-01],\n",
       "       [ 1.00000000e+00, -2.44929360e-16,  9.02320411e-01],\n",
       "       [ 5.00000000e-01, -8.66025404e-01,  8.96484646e-01],\n",
       "       ...,\n",
       "       [ 8.66025404e-01,  5.00000000e-01,  3.59107962e-01],\n",
       "       [ 1.00000000e+00, -2.44929360e-16,  4.58663332e-01],\n",
       "       [-8.66025404e-01,  5.00000000e-01,  9.42753925e-01]])"
      ]
     },
     "execution_count": 316,
     "metadata": {},
     "output_type": "execute_result"
    }
   ],
   "source": [
    "preprocessing_time.fit_transform(X)"
   ]
  },
  {
   "cell_type": "markdown",
   "metadata": {},
   "source": [
    "### 💾 Save your results\n",
    "\n",
    "Run the cell below to save your results."
   ]
  },
  {
   "cell_type": "code",
   "execution_count": 363,
   "metadata": {},
   "outputs": [],
   "source": [
    "from nbresult import ChallengeResult\n",
    "results = ChallengeResult(\n",
    "    'feature_engineering',\n",
    "    x_soil_condition=X_soil_condition_encoded,\n",
    "    X_time_features=X_time_features,\n",
    "    X_time_cyclical= X_time_cyclical,\n",
    "    X_time=preprocessing_time.fit_transform(X)\n",
    ")\n",
    "results.write()"
   ]
  },
  {
   "cell_type": "markdown",
   "metadata": {},
   "source": [
    "## Advanced Pipeline"
   ]
  },
  {
   "cell_type": "markdown",
   "metadata": {},
   "source": [
    "**📝  Build a full preprocessing pipeline and store it in `preprocessing_advanced`.**"
   ]
  },
  {
   "cell_type": "markdown",
   "metadata": {},
   "source": [
    "Here are its steps, they should go in a parallel ColumnTransformer\n",
    "\n",
    "- Scale all numerical features between 0 and 1\n",
    "- Encode `main_element`  \n",
    "- Better encode `soil_condition`\n",
    "- Apply the `preprocessing_time` pipeline on `datetime_start` and `datetime_end`"
   ]
  },
  {
   "cell_type": "code",
   "execution_count": 382,
   "metadata": {
    "ExecuteTime": {
     "end_time": "2021-09-09T15:39:43.015494Z",
     "start_time": "2021-09-09T15:39:37.663Z"
    },
    "tags": [
     "challengify"
    ]
   },
   "outputs": [],
   "source": [
    "preprocessing_advanced = ColumnTransformer([\n",
    "    ('num_transformer', MinMaxScaler(), feat_num),\n",
    "    ('main_element_transformer', OneHotEncoder(), ['main_element']),\n",
    "        ('soil_transformer', OrdinalEncoder(categories=[[\"poor\",\"normal\",\"rich\"]]), [\"soil_condition\"]),\n",
    "    ('time_preprocessing', preprocessing_time, feat_time)\n",
    "])"
   ]
  },
  {
   "cell_type": "markdown",
   "metadata": {},
   "source": [
    "## Regularized Linear Model"
   ]
  },
  {
   "cell_type": "markdown",
   "metadata": {},
   "source": [
    "**📝 Build a pipeline that uses `preprocessing_advanced` and then a _Regularized Linear_ model.**"
   ]
  },
  {
   "cell_type": "markdown",
   "metadata": {},
   "source": [
    "Cross-validate your pipeline and store the scores in a list `scores_regularized`"
   ]
  },
  {
   "cell_type": "code",
   "execution_count": 383,
   "metadata": {
    "ExecuteTime": {
     "end_time": "2021-09-09T15:39:43.018869Z",
     "start_time": "2021-09-09T15:39:37.683Z"
    },
    "tags": [
     "challengify"
    ]
   },
   "outputs": [],
   "source": [
    "pipeline_regularized = Pipeline([\n",
    "    ('preprocessing', preprocessing_advanced),\n",
    "    ('log_regression', LogisticRegression(C=0.5))])"
   ]
  },
  {
   "cell_type": "code",
   "execution_count": 384,
   "metadata": {},
   "outputs": [],
   "source": [
    "X_train, X_test, y_train, y_test = train_test_split(X,y, test_size=0.3, random_state=0)"
   ]
  },
  {
   "cell_type": "code",
   "execution_count": 385,
   "metadata": {},
   "outputs": [],
   "source": [
    "scores_regularized=cross_val_score(pipeline_regularized, X_train, y_train, cv=5, scoring='precision')"
   ]
  },
  {
   "cell_type": "markdown",
   "metadata": {},
   "source": [
    "### 💾 Save your results\n",
    "\n",
    "Run the cell below to save your results."
   ]
  },
  {
   "cell_type": "code",
   "execution_count": 387,
   "metadata": {
    "ExecuteTime": {
     "end_time": "2021-09-09T15:39:43.020657Z",
     "start_time": "2021-09-09T15:39:37.693Z"
    }
   },
   "outputs": [],
   "source": [
    "from nbresult import ChallengeResult\n",
    "from sklearn.model_selection import train_test_split\n",
    "X_,X_val,y_,y_val = train_test_split(X,y,test_size=0.3,random_state=7)\n",
    "pipe=pipeline_regularized.fit(X_,y_)\n",
    "\n",
    "result = ChallengeResult(\n",
    "    'advanced_pipeline',\n",
    "    steps=str(pipeline_regularized.steps),\n",
    "    scores=scores_regularized,\n",
    "    y=y_val,\n",
    "    y_pred=pipeline_regularized.predict(X_val)\n",
    ")\n",
    "result.write()"
   ]
  },
  {
   "cell_type": "markdown",
   "metadata": {},
   "source": [
    "## Dimensionality Reduction"
   ]
  },
  {
   "cell_type": "markdown",
   "metadata": {},
   "source": [
    "**📝 Add a dimensional reduction step as the last step of your `preprocessing_advanced`. Make sure your dimensional reduction keeps _only 12 features_.**"
   ]
  },
  {
   "cell_type": "code",
   "execution_count": 388,
   "metadata": {
    "ExecuteTime": {
     "end_time": "2021-09-09T15:39:43.023453Z",
     "start_time": "2021-09-09T15:39:37.712Z"
    },
    "tags": [
     "challengify"
    ]
   },
   "outputs": [],
   "source": [
    "from sklearn.decomposition import PCA"
   ]
  },
  {
   "cell_type": "code",
   "execution_count": 389,
   "metadata": {},
   "outputs": [],
   "source": [
    "preprocessing_temp=ColumnTransformer([\n",
    "    ('num_transformer', MinMaxScaler(), feat_num),\n",
    "    ('main_element_transformer', OneHotEncoder(), ['main_element']),\n",
    "        ('soil_transformer', OrdinalEncoder(categories=[[\"poor\",\"normal\",\"rich\"]]), [\"soil_condition\"]),\n",
    "    ('time_preprocessing', preprocessing_time, feat_time)\n",
    "])"
   ]
  },
  {
   "cell_type": "code",
   "execution_count": 390,
   "metadata": {},
   "outputs": [],
   "source": [
    "preprocessing_advanced=Pipeline([\n",
    "    ('feature_modifications',preprocessing_temp),\n",
    "    ('PCA',PCA(n_components=12))\n",
    "    \n",
    "])"
   ]
  },
  {
   "cell_type": "markdown",
   "metadata": {},
   "source": [
    "**📝 Apply your `preprocessing_advanced` to `X` and store the result in the `X_preproc_adv` variable.**"
   ]
  },
  {
   "cell_type": "code",
   "execution_count": 391,
   "metadata": {
    "tags": [
     "challengify"
    ]
   },
   "outputs": [],
   "source": [
    "X_preproc_adv=preprocessing_advanced.fit_transform(X)"
   ]
  },
  {
   "cell_type": "markdown",
   "metadata": {},
   "source": [
    "### 💾 Save your results\n",
    "\n",
    "Run the cell below to save your results."
   ]
  },
  {
   "cell_type": "code",
   "execution_count": 381,
   "metadata": {},
   "outputs": [],
   "source": [
    "from nbresult import ChallengeResult\n",
    "results=ChallengeResult(\n",
    "    'unsupervised',\n",
    "    algorithm=preprocessing_advanced.steps[-1],\n",
    "    X_preproc_adv=X_preproc_adv\n",
    ")\n",
    "results.write()"
   ]
  },
  {
   "cell_type": "markdown",
   "metadata": {},
   "source": [
    "## Non-linear Model"
   ]
  },
  {
   "cell_type": "markdown",
   "metadata": {},
   "source": [
    "**📝 Build a pipeline that uses `preprocessing_advanced` and then a _Ensemble_ model.**"
   ]
  },
  {
   "cell_type": "markdown",
   "metadata": {},
   "source": [
    "Store this pipeline in the variable `pipeline_ensemble`"
   ]
  },
  {
   "cell_type": "code",
   "execution_count": 393,
   "metadata": {},
   "outputs": [],
   "source": [
    "from sklearn.ensemble import RandomForestClassifier\n",
    "pipeline_ensemble=Pipeline([\n",
    "    (\"preprocessing\",preprocessing_advanced),\n",
    "    (\"ensemble_model\",RandomForestClassifier()) \n",
    "])"
   ]
  },
  {
   "cell_type": "code",
   "execution_count": 394,
   "metadata": {},
   "outputs": [
    {
     "data": {
      "text/html": [
       "<style>#sk-1671d98f-b175-4c1c-8db4-89d9087ba212 {color: black;background-color: white;}#sk-1671d98f-b175-4c1c-8db4-89d9087ba212 pre{padding: 0;}#sk-1671d98f-b175-4c1c-8db4-89d9087ba212 div.sk-toggleable {background-color: white;}#sk-1671d98f-b175-4c1c-8db4-89d9087ba212 label.sk-toggleable__label {cursor: pointer;display: block;width: 100%;margin-bottom: 0;padding: 0.2em 0.3em;box-sizing: border-box;text-align: center;}#sk-1671d98f-b175-4c1c-8db4-89d9087ba212 div.sk-toggleable__content {max-height: 0;max-width: 0;overflow: hidden;text-align: left;background-color: #f0f8ff;}#sk-1671d98f-b175-4c1c-8db4-89d9087ba212 div.sk-toggleable__content pre {margin: 0.2em;color: black;border-radius: 0.25em;background-color: #f0f8ff;}#sk-1671d98f-b175-4c1c-8db4-89d9087ba212 input.sk-toggleable__control:checked~div.sk-toggleable__content {max-height: 200px;max-width: 100%;overflow: auto;}#sk-1671d98f-b175-4c1c-8db4-89d9087ba212 div.sk-estimator input.sk-toggleable__control:checked~label.sk-toggleable__label {background-color: #d4ebff;}#sk-1671d98f-b175-4c1c-8db4-89d9087ba212 div.sk-label input.sk-toggleable__control:checked~label.sk-toggleable__label {background-color: #d4ebff;}#sk-1671d98f-b175-4c1c-8db4-89d9087ba212 input.sk-hidden--visually {border: 0;clip: rect(1px 1px 1px 1px);clip: rect(1px, 1px, 1px, 1px);height: 1px;margin: -1px;overflow: hidden;padding: 0;position: absolute;width: 1px;}#sk-1671d98f-b175-4c1c-8db4-89d9087ba212 div.sk-estimator {font-family: monospace;background-color: #f0f8ff;margin: 0.25em 0.25em;border: 1px dotted black;border-radius: 0.25em;box-sizing: border-box;}#sk-1671d98f-b175-4c1c-8db4-89d9087ba212 div.sk-estimator:hover {background-color: #d4ebff;}#sk-1671d98f-b175-4c1c-8db4-89d9087ba212 div.sk-parallel-item::after {content: \"\";width: 100%;border-bottom: 1px solid gray;flex-grow: 1;}#sk-1671d98f-b175-4c1c-8db4-89d9087ba212 div.sk-label:hover label.sk-toggleable__label {background-color: #d4ebff;}#sk-1671d98f-b175-4c1c-8db4-89d9087ba212 div.sk-serial::before {content: \"\";position: absolute;border-left: 1px solid gray;box-sizing: border-box;top: 2em;bottom: 0;left: 50%;}#sk-1671d98f-b175-4c1c-8db4-89d9087ba212 div.sk-serial {display: flex;flex-direction: column;align-items: center;background-color: white;}#sk-1671d98f-b175-4c1c-8db4-89d9087ba212 div.sk-item {z-index: 1;}#sk-1671d98f-b175-4c1c-8db4-89d9087ba212 div.sk-parallel {display: flex;align-items: stretch;justify-content: center;background-color: white;}#sk-1671d98f-b175-4c1c-8db4-89d9087ba212 div.sk-parallel-item {display: flex;flex-direction: column;position: relative;background-color: white;}#sk-1671d98f-b175-4c1c-8db4-89d9087ba212 div.sk-parallel-item:first-child::after {align-self: flex-end;width: 50%;}#sk-1671d98f-b175-4c1c-8db4-89d9087ba212 div.sk-parallel-item:last-child::after {align-self: flex-start;width: 50%;}#sk-1671d98f-b175-4c1c-8db4-89d9087ba212 div.sk-parallel-item:only-child::after {width: 0;}#sk-1671d98f-b175-4c1c-8db4-89d9087ba212 div.sk-dashed-wrapped {border: 1px dashed gray;margin: 0.2em;box-sizing: border-box;padding-bottom: 0.1em;background-color: white;position: relative;}#sk-1671d98f-b175-4c1c-8db4-89d9087ba212 div.sk-label label {font-family: monospace;font-weight: bold;background-color: white;display: inline-block;line-height: 1.2em;}#sk-1671d98f-b175-4c1c-8db4-89d9087ba212 div.sk-label-container {position: relative;z-index: 2;text-align: center;}#sk-1671d98f-b175-4c1c-8db4-89d9087ba212 div.sk-container {display: inline-block;position: relative;}</style><div id=\"sk-1671d98f-b175-4c1c-8db4-89d9087ba212\" class\"sk-top-container\"><div class=\"sk-container\"><div class=\"sk-item sk-dashed-wrapped\"><div class=\"sk-label-container\"><div class=\"sk-label sk-toggleable\"><input class=\"sk-toggleable__control sk-hidden--visually\" id=\"aac8ec59-b3c1-4d1a-a9a2-f6c576b78c77\" type=\"checkbox\" ><label class=\"sk-toggleable__label\" for=\"aac8ec59-b3c1-4d1a-a9a2-f6c576b78c77\">Pipeline</label><div class=\"sk-toggleable__content\"><pre>Pipeline(steps=[('preprocessing',\n",
       "                 Pipeline(steps=[('feature_modifications',\n",
       "                                  ColumnTransformer(transformers=[('num_transformer',\n",
       "                                                                   MinMaxScaler(),\n",
       "                                                                   ['measure_index',\n",
       "                                                                    'measure_moisture',\n",
       "                                                                    'measure_temperature',\n",
       "                                                                    'measure_chemicals',\n",
       "                                                                    'measure_biodiversity']),\n",
       "                                                                  ('main_element_transformer',\n",
       "                                                                   OneHotEncoder(),\n",
       "                                                                   ['main_element']),\n",
       "                                                                  ('soil_transformer',\n",
       "                                                                   OrdinalEncoder(categories...\n",
       "                                                                   ['soil_condition']),\n",
       "                                                                  ('time_preprocessing',\n",
       "                                                                   Pipeline(steps=[('month_duration',\n",
       "                                                                                    TimeFeaturesExtractor()),\n",
       "                                                                                   ('scale_cycling',\n",
       "                                                                                    ColumnTransformer(transformers=[('cyclical_encoding',\n",
       "                                                                                                                     CyclicalEncoder(),\n",
       "                                                                                                                     ['month']),\n",
       "                                                                                                                    ('scale_duration',\n",
       "                                                                                                                     MinMaxScaler(),\n",
       "                                                                                                                     ['duration'])]))]),\n",
       "                                                                   ['datetime_start',\n",
       "                                                                    'datetime_end'])])),\n",
       "                                 ('PCA', PCA(n_components=12))])),\n",
       "                ('ensemble_model', RandomForestClassifier())])</pre></div></div></div><div class=\"sk-serial\"><div class=\"sk-item\"><div class=\"sk-label-container\"><div class=\"sk-label sk-toggleable\"><input class=\"sk-toggleable__control sk-hidden--visually\" id=\"8ed115e4-167a-4991-a5b4-cc3a74f724f6\" type=\"checkbox\" ><label class=\"sk-toggleable__label\" for=\"8ed115e4-167a-4991-a5b4-cc3a74f724f6\">preprocessing: Pipeline</label><div class=\"sk-toggleable__content\"><pre>Pipeline(steps=[('feature_modifications',\n",
       "                 ColumnTransformer(transformers=[('num_transformer',\n",
       "                                                  MinMaxScaler(),\n",
       "                                                  ['measure_index',\n",
       "                                                   'measure_moisture',\n",
       "                                                   'measure_temperature',\n",
       "                                                   'measure_chemicals',\n",
       "                                                   'measure_biodiversity']),\n",
       "                                                 ('main_element_transformer',\n",
       "                                                  OneHotEncoder(),\n",
       "                                                  ['main_element']),\n",
       "                                                 ('soil_transformer',\n",
       "                                                  OrdinalEncoder(categories=[['poor',\n",
       "                                                                              'normal',\n",
       "                                                                              'rich']]),\n",
       "                                                  ['soil_condition']),\n",
       "                                                 ('time_preprocessing',\n",
       "                                                  Pipeline(steps=[('month_duration',\n",
       "                                                                   TimeFeaturesExtractor()),\n",
       "                                                                  ('scale_cycling',\n",
       "                                                                   ColumnTransformer(transformers=[('cyclical_encoding',\n",
       "                                                                                                    CyclicalEncoder(),\n",
       "                                                                                                    ['month']),\n",
       "                                                                                                   ('scale_duration',\n",
       "                                                                                                    MinMaxScaler(),\n",
       "                                                                                                    ['duration'])]))]),\n",
       "                                                  ['datetime_start',\n",
       "                                                   'datetime_end'])])),\n",
       "                ('PCA', PCA(n_components=12))])</pre></div></div></div><div class=\"sk-serial\"><div class=\"sk-item sk-dashed-wrapped\"><div class=\"sk-label-container\"><div class=\"sk-label sk-toggleable\"><input class=\"sk-toggleable__control sk-hidden--visually\" id=\"00fd77e3-337a-4033-a524-ec64edeef0ef\" type=\"checkbox\" ><label class=\"sk-toggleable__label\" for=\"00fd77e3-337a-4033-a524-ec64edeef0ef\">feature_modifications: ColumnTransformer</label><div class=\"sk-toggleable__content\"><pre>ColumnTransformer(transformers=[('num_transformer', MinMaxScaler(),\n",
       "                                 ['measure_index', 'measure_moisture',\n",
       "                                  'measure_temperature', 'measure_chemicals',\n",
       "                                  'measure_biodiversity']),\n",
       "                                ('main_element_transformer', OneHotEncoder(),\n",
       "                                 ['main_element']),\n",
       "                                ('soil_transformer',\n",
       "                                 OrdinalEncoder(categories=[['poor', 'normal',\n",
       "                                                             'rich']]),\n",
       "                                 ['soil_condition']),\n",
       "                                ('time_preprocessing',\n",
       "                                 Pipeline(steps=[('month_duration',\n",
       "                                                  TimeFeaturesExtractor()),\n",
       "                                                 ('scale_cycling',\n",
       "                                                  ColumnTransformer(transformers=[('cyclical_encoding',\n",
       "                                                                                   CyclicalEncoder(),\n",
       "                                                                                   ['month']),\n",
       "                                                                                  ('scale_duration',\n",
       "                                                                                   MinMaxScaler(),\n",
       "                                                                                   ['duration'])]))]),\n",
       "                                 ['datetime_start', 'datetime_end'])])</pre></div></div></div><div class=\"sk-parallel\"><div class=\"sk-parallel-item\"><div class=\"sk-item\"><div class=\"sk-label-container\"><div class=\"sk-label sk-toggleable\"><input class=\"sk-toggleable__control sk-hidden--visually\" id=\"580395a4-7dc7-4c80-86f0-757a32e406f2\" type=\"checkbox\" ><label class=\"sk-toggleable__label\" for=\"580395a4-7dc7-4c80-86f0-757a32e406f2\">num_transformer</label><div class=\"sk-toggleable__content\"><pre>['measure_index', 'measure_moisture', 'measure_temperature', 'measure_chemicals', 'measure_biodiversity']</pre></div></div></div><div class=\"sk-serial\"><div class=\"sk-item\"><div class=\"sk-estimator sk-toggleable\"><input class=\"sk-toggleable__control sk-hidden--visually\" id=\"f75a2a8c-75dc-45e9-b1b8-10821098f938\" type=\"checkbox\" ><label class=\"sk-toggleable__label\" for=\"f75a2a8c-75dc-45e9-b1b8-10821098f938\">MinMaxScaler</label><div class=\"sk-toggleable__content\"><pre>MinMaxScaler()</pre></div></div></div></div></div></div><div class=\"sk-parallel-item\"><div class=\"sk-item\"><div class=\"sk-label-container\"><div class=\"sk-label sk-toggleable\"><input class=\"sk-toggleable__control sk-hidden--visually\" id=\"02fde131-5444-4c87-9198-0a376f49c511\" type=\"checkbox\" ><label class=\"sk-toggleable__label\" for=\"02fde131-5444-4c87-9198-0a376f49c511\">main_element_transformer</label><div class=\"sk-toggleable__content\"><pre>['main_element']</pre></div></div></div><div class=\"sk-serial\"><div class=\"sk-item\"><div class=\"sk-estimator sk-toggleable\"><input class=\"sk-toggleable__control sk-hidden--visually\" id=\"5eeb61e5-ffe3-47ca-a8b3-5f577fe2a262\" type=\"checkbox\" ><label class=\"sk-toggleable__label\" for=\"5eeb61e5-ffe3-47ca-a8b3-5f577fe2a262\">OneHotEncoder</label><div class=\"sk-toggleable__content\"><pre>OneHotEncoder()</pre></div></div></div></div></div></div><div class=\"sk-parallel-item\"><div class=\"sk-item\"><div class=\"sk-label-container\"><div class=\"sk-label sk-toggleable\"><input class=\"sk-toggleable__control sk-hidden--visually\" id=\"101d1fdf-3619-4ff6-b6d0-d070c18d212e\" type=\"checkbox\" ><label class=\"sk-toggleable__label\" for=\"101d1fdf-3619-4ff6-b6d0-d070c18d212e\">soil_transformer</label><div class=\"sk-toggleable__content\"><pre>['soil_condition']</pre></div></div></div><div class=\"sk-serial\"><div class=\"sk-item\"><div class=\"sk-estimator sk-toggleable\"><input class=\"sk-toggleable__control sk-hidden--visually\" id=\"fe88d8ae-f138-4118-b71e-c4775b69281f\" type=\"checkbox\" ><label class=\"sk-toggleable__label\" for=\"fe88d8ae-f138-4118-b71e-c4775b69281f\">OrdinalEncoder</label><div class=\"sk-toggleable__content\"><pre>OrdinalEncoder(categories=[['poor', 'normal', 'rich']])</pre></div></div></div></div></div></div><div class=\"sk-parallel-item\"><div class=\"sk-item\"><div class=\"sk-label-container\"><div class=\"sk-label sk-toggleable\"><input class=\"sk-toggleable__control sk-hidden--visually\" id=\"de46b0d9-6f32-4256-8b37-169d6e429b6f\" type=\"checkbox\" ><label class=\"sk-toggleable__label\" for=\"de46b0d9-6f32-4256-8b37-169d6e429b6f\">time_preprocessing</label><div class=\"sk-toggleable__content\"><pre>['datetime_start', 'datetime_end']</pre></div></div></div><div class=\"sk-serial\"><div class=\"sk-item\"><div class=\"sk-serial\"><div class=\"sk-item\"><div class=\"sk-estimator sk-toggleable\"><input class=\"sk-toggleable__control sk-hidden--visually\" id=\"70830502-f2dd-45bb-9c92-d7587ca49a25\" type=\"checkbox\" ><label class=\"sk-toggleable__label\" for=\"70830502-f2dd-45bb-9c92-d7587ca49a25\">TimeFeaturesExtractor</label><div class=\"sk-toggleable__content\"><pre>TimeFeaturesExtractor()</pre></div></div></div><div class=\"sk-item sk-dashed-wrapped\"><div class=\"sk-label-container\"><div class=\"sk-label sk-toggleable\"><input class=\"sk-toggleable__control sk-hidden--visually\" id=\"88ef22e3-320c-4d51-b4e6-c2d1a7a4798a\" type=\"checkbox\" ><label class=\"sk-toggleable__label\" for=\"88ef22e3-320c-4d51-b4e6-c2d1a7a4798a\">scale_cycling: ColumnTransformer</label><div class=\"sk-toggleable__content\"><pre>ColumnTransformer(transformers=[('cyclical_encoding', CyclicalEncoder(),\n",
       "                                 ['month']),\n",
       "                                ('scale_duration', MinMaxScaler(),\n",
       "                                 ['duration'])])</pre></div></div></div><div class=\"sk-parallel\"><div class=\"sk-parallel-item\"><div class=\"sk-item\"><div class=\"sk-label-container\"><div class=\"sk-label sk-toggleable\"><input class=\"sk-toggleable__control sk-hidden--visually\" id=\"7ec7822c-4d8e-4598-b602-6678330c1c9d\" type=\"checkbox\" ><label class=\"sk-toggleable__label\" for=\"7ec7822c-4d8e-4598-b602-6678330c1c9d\">cyclical_encoding</label><div class=\"sk-toggleable__content\"><pre>['month']</pre></div></div></div><div class=\"sk-serial\"><div class=\"sk-item\"><div class=\"sk-estimator sk-toggleable\"><input class=\"sk-toggleable__control sk-hidden--visually\" id=\"2aef6265-c5b1-4c8b-b53a-1ffa07da24b2\" type=\"checkbox\" ><label class=\"sk-toggleable__label\" for=\"2aef6265-c5b1-4c8b-b53a-1ffa07da24b2\">CyclicalEncoder</label><div class=\"sk-toggleable__content\"><pre>CyclicalEncoder()</pre></div></div></div></div></div></div><div class=\"sk-parallel-item\"><div class=\"sk-item\"><div class=\"sk-label-container\"><div class=\"sk-label sk-toggleable\"><input class=\"sk-toggleable__control sk-hidden--visually\" id=\"07d4bd7a-aede-4cd0-8e70-c733e5c0d822\" type=\"checkbox\" ><label class=\"sk-toggleable__label\" for=\"07d4bd7a-aede-4cd0-8e70-c733e5c0d822\">scale_duration</label><div class=\"sk-toggleable__content\"><pre>['duration']</pre></div></div></div><div class=\"sk-serial\"><div class=\"sk-item\"><div class=\"sk-estimator sk-toggleable\"><input class=\"sk-toggleable__control sk-hidden--visually\" id=\"ad455e99-4ba7-469a-a8f1-558113461a26\" type=\"checkbox\" ><label class=\"sk-toggleable__label\" for=\"ad455e99-4ba7-469a-a8f1-558113461a26\">MinMaxScaler</label><div class=\"sk-toggleable__content\"><pre>MinMaxScaler()</pre></div></div></div></div></div></div></div></div></div></div></div></div></div></div></div><div class=\"sk-item\"><div class=\"sk-estimator sk-toggleable\"><input class=\"sk-toggleable__control sk-hidden--visually\" id=\"4803045c-1f91-4f29-b4a8-f6422a426fca\" type=\"checkbox\" ><label class=\"sk-toggleable__label\" for=\"4803045c-1f91-4f29-b4a8-f6422a426fca\">PCA</label><div class=\"sk-toggleable__content\"><pre>PCA(n_components=12)</pre></div></div></div></div></div><div class=\"sk-item\"><div class=\"sk-estimator sk-toggleable\"><input class=\"sk-toggleable__control sk-hidden--visually\" id=\"0781a84e-186e-497e-af4f-12ab6b5c3085\" type=\"checkbox\" ><label class=\"sk-toggleable__label\" for=\"0781a84e-186e-497e-af4f-12ab6b5c3085\">RandomForestClassifier</label><div class=\"sk-toggleable__content\"><pre>RandomForestClassifier()</pre></div></div></div></div></div></div></div>"
      ],
      "text/plain": [
       "Pipeline(steps=[('preprocessing',\n",
       "                 Pipeline(steps=[('feature_modifications',\n",
       "                                  ColumnTransformer(transformers=[('num_transformer',\n",
       "                                                                   MinMaxScaler(),\n",
       "                                                                   ['measure_index',\n",
       "                                                                    'measure_moisture',\n",
       "                                                                    'measure_temperature',\n",
       "                                                                    'measure_chemicals',\n",
       "                                                                    'measure_biodiversity']),\n",
       "                                                                  ('main_element_transformer',\n",
       "                                                                   OneHotEncoder(),\n",
       "                                                                   ['main_element']),\n",
       "                                                                  ('soil_transformer',\n",
       "                                                                   OrdinalEncoder(categories...\n",
       "                                                                   ['soil_condition']),\n",
       "                                                                  ('time_preprocessing',\n",
       "                                                                   Pipeline(steps=[('month_duration',\n",
       "                                                                                    TimeFeaturesExtractor()),\n",
       "                                                                                   ('scale_cycling',\n",
       "                                                                                    ColumnTransformer(transformers=[('cyclical_encoding',\n",
       "                                                                                                                     CyclicalEncoder(),\n",
       "                                                                                                                     ['month']),\n",
       "                                                                                                                    ('scale_duration',\n",
       "                                                                                                                     MinMaxScaler(),\n",
       "                                                                                                                     ['duration'])]))]),\n",
       "                                                                   ['datetime_start',\n",
       "                                                                    'datetime_end'])])),\n",
       "                                 ('PCA', PCA(n_components=12))])),\n",
       "                ('ensemble_model', RandomForestClassifier())])"
      ]
     },
     "execution_count": 394,
     "metadata": {},
     "output_type": "execute_result"
    }
   ],
   "source": [
    "pipeline_ensemble"
   ]
  },
  {
   "cell_type": "markdown",
   "metadata": {},
   "source": [
    "Cross-validate your pipeline and store the scores in a list `scores_ensemble`"
   ]
  },
  {
   "cell_type": "code",
   "execution_count": 395,
   "metadata": {
    "ExecuteTime": {
     "end_time": "2021-09-09T15:39:43.024242Z",
     "start_time": "2021-09-09T15:39:37.720Z"
    },
    "tags": [
     "challengify"
    ]
   },
   "outputs": [],
   "source": [
    "scores_ensemble=cross_val_score(pipeline_ensemble, X_train, y_train, cv=5, scoring='precision')"
   ]
  },
  {
   "cell_type": "code",
   "execution_count": 396,
   "metadata": {},
   "outputs": [
    {
     "data": {
      "text/plain": [
       "array([0.98387097, 0.98395722, 0.97686833, 0.96509599, 0.97326203])"
      ]
     },
     "execution_count": 396,
     "metadata": {},
     "output_type": "execute_result"
    }
   ],
   "source": [
    "scores_ensemble"
   ]
  },
  {
   "cell_type": "markdown",
   "metadata": {},
   "source": [
    "**❓ Does this non-linear model satisfy the goal of the study?**"
   ]
  },
  {
   "cell_type": "markdown",
   "metadata": {
    "tags": [
     "challengify"
    ]
   },
   "source": [
    "Oui! Nous dépassons les 90% attendus"
   ]
  },
  {
   "cell_type": "markdown",
   "metadata": {},
   "source": [
    "💡 Wait, did our feature engineering helps us ❓"
   ]
  },
  {
   "cell_type": "markdown",
   "metadata": {},
   "source": [
    "**📝 Build a pipeline that uses `preprocessing_basic` and the same Ensemble model as above.**"
   ]
  },
  {
   "cell_type": "code",
   "execution_count": 397,
   "metadata": {
    "ExecuteTime": {
     "end_time": "2021-09-09T15:39:43.026546Z",
     "start_time": "2021-09-09T15:39:37.737Z"
    },
    "tags": [
     "challengify"
    ]
   },
   "outputs": [],
   "source": [
    "pipeline_ensemble_basic=Pipeline([\n",
    "    (\"preprocessing\",preprocessing_basic),\n",
    "    (\"ensemble_model\",RandomForestClassifier()) \n",
    "])"
   ]
  },
  {
   "cell_type": "code",
   "execution_count": 400,
   "metadata": {},
   "outputs": [],
   "source": [
    "from sklearn.model_selection import cross_validate"
   ]
  },
  {
   "cell_type": "code",
   "execution_count": 401,
   "metadata": {},
   "outputs": [
    {
     "data": {
      "text/plain": [
       "{'fit_time': array([1.14126897, 0.95567298, 0.85340691, 0.96131992, 1.09046888]),\n",
       " 'score_time': array([0.06788993, 0.03660202, 0.03748131, 0.03866911, 0.03817511]),\n",
       " 'test_score': array([0.98207885, 0.98401421, 0.97868561, 0.96678322, 0.97860963])}"
      ]
     },
     "execution_count": 401,
     "metadata": {},
     "output_type": "execute_result"
    }
   ],
   "source": [
    "cross_validate(pipeline_ensemble, X_train, y_train, cv=5, scoring='precision')"
   ]
  },
  {
   "cell_type": "code",
   "execution_count": 402,
   "metadata": {},
   "outputs": [
    {
     "data": {
      "text/plain": [
       "{'fit_time': array([3.24518514, 3.20243311, 3.07462788, 3.00827384, 2.95543981]),\n",
       " 'score_time': array([0.11057305, 0.09811401, 0.10859299, 0.10001612, 0.11043406]),\n",
       " 'test_score': array([0.8697479 , 0.854     , 0.87018256, 0.86486486, 0.83762376])}"
      ]
     },
     "execution_count": 402,
     "metadata": {},
     "output_type": "execute_result"
    }
   ],
   "source": [
    "cross_validate(pipeline_ensemble_basic, X_train, y_train, cv=5, scoring='precision')"
   ]
  },
  {
   "cell_type": "markdown",
   "metadata": {},
   "source": [
    "**❓ What is your conclusion?**"
   ]
  },
  {
   "cell_type": "markdown",
   "metadata": {
    "tags": [
     "challengify"
    ]
   },
   "source": [
    "Le préprocessing a permis d'améliorer les résultats et d'atteindre nos objectifs. \n",
    "\n",
    "De plus les temps de calculs sont bien plus courts lors de l'utilisation du préprocessing! (Surement du à la réduction de dimensions)"
   ]
  },
  {
   "cell_type": "markdown",
   "metadata": {},
   "source": [
    "### 💾 Save your results\n",
    "\n",
    "Run the cell below to save your results."
   ]
  },
  {
   "cell_type": "code",
   "execution_count": 403,
   "metadata": {},
   "outputs": [],
   "source": [
    "from nbresult import ChallengeResult\n",
    "from sklearn.model_selection import train_test_split\n",
    "X_,X_val,y_,y_val=train_test_split(X,y,test_size=0.3,random_state=7)\n",
    "pipeline_ensemble.fit(X_,y_)\n",
    "y_pred=pipeline_ensemble.predict(X_val)\n",
    "\n",
    "results=ChallengeResult(\n",
    "    'ensemble',\n",
    "    steps=str(pipeline_ensemble.steps),\n",
    "    scores=scores_ensemble,\n",
    "    y=y_val,\n",
    "    y_pred=y_pred\n",
    ")\n",
    "results.write()"
   ]
  },
  {
   "cell_type": "markdown",
   "metadata": {},
   "source": [
    "## Fine-Tuning"
   ]
  },
  {
   "cell_type": "markdown",
   "metadata": {},
   "source": [
    "💡 To improve the model as much as we can, it's time to grid search for optimal hyperparameters"
   ]
  },
  {
   "cell_type": "markdown",
   "metadata": {},
   "source": [
    "**📝 Look at the hyperparameters of your estimator**"
   ]
  },
  {
   "cell_type": "code",
   "execution_count": 407,
   "metadata": {
    "ExecuteTime": {
     "end_time": "2021-09-09T15:39:43.029350Z",
     "start_time": "2021-09-09T15:39:37.754Z"
    },
    "tags": [
     "challengify"
    ]
   },
   "outputs": [
    {
     "data": {
      "text/plain": [
       "{'memory': None,\n",
       " 'steps': [('preprocessing',\n",
       "   Pipeline(steps=[('feature_modifications',\n",
       "                    ColumnTransformer(transformers=[('num_transformer',\n",
       "                                                     MinMaxScaler(),\n",
       "                                                     ['measure_index',\n",
       "                                                      'measure_moisture',\n",
       "                                                      'measure_temperature',\n",
       "                                                      'measure_chemicals',\n",
       "                                                      'measure_biodiversity']),\n",
       "                                                    ('main_element_transformer',\n",
       "                                                     OneHotEncoder(),\n",
       "                                                     ['main_element']),\n",
       "                                                    ('soil_transformer',\n",
       "                                                     OrdinalEncoder(categories=[['poor',\n",
       "                                                                                 'normal',\n",
       "                                                                                 'rich']]),\n",
       "                                                     ['soil_condition']),\n",
       "                                                    ('time_preprocessing',\n",
       "                                                     Pipeline(steps=[('month_duration',\n",
       "                                                                      TimeFeaturesExtractor()),\n",
       "                                                                     ('scale_cycling',\n",
       "                                                                      ColumnTransformer(transformers=[('cyclical_encoding',\n",
       "                                                                                                       CyclicalEncoder(),\n",
       "                                                                                                       ['month']),\n",
       "                                                                                                      ('scale_duration',\n",
       "                                                                                                       MinMaxScaler(),\n",
       "                                                                                                       ['duration'])]))]),\n",
       "                                                     ['datetime_start',\n",
       "                                                      'datetime_end'])])),\n",
       "                   ('PCA', PCA(n_components=12))])),\n",
       "  ('ensemble_model', RandomForestClassifier())],\n",
       " 'verbose': False,\n",
       " 'preprocessing': Pipeline(steps=[('feature_modifications',\n",
       "                  ColumnTransformer(transformers=[('num_transformer',\n",
       "                                                   MinMaxScaler(),\n",
       "                                                   ['measure_index',\n",
       "                                                    'measure_moisture',\n",
       "                                                    'measure_temperature',\n",
       "                                                    'measure_chemicals',\n",
       "                                                    'measure_biodiversity']),\n",
       "                                                  ('main_element_transformer',\n",
       "                                                   OneHotEncoder(),\n",
       "                                                   ['main_element']),\n",
       "                                                  ('soil_transformer',\n",
       "                                                   OrdinalEncoder(categories=[['poor',\n",
       "                                                                               'normal',\n",
       "                                                                               'rich']]),\n",
       "                                                   ['soil_condition']),\n",
       "                                                  ('time_preprocessing',\n",
       "                                                   Pipeline(steps=[('month_duration',\n",
       "                                                                    TimeFeaturesExtractor()),\n",
       "                                                                   ('scale_cycling',\n",
       "                                                                    ColumnTransformer(transformers=[('cyclical_encoding',\n",
       "                                                                                                     CyclicalEncoder(),\n",
       "                                                                                                     ['month']),\n",
       "                                                                                                    ('scale_duration',\n",
       "                                                                                                     MinMaxScaler(),\n",
       "                                                                                                     ['duration'])]))]),\n",
       "                                                   ['datetime_start',\n",
       "                                                    'datetime_end'])])),\n",
       "                 ('PCA', PCA(n_components=12))]),\n",
       " 'ensemble_model': RandomForestClassifier(),\n",
       " 'preprocessing__memory': None,\n",
       " 'preprocessing__steps': [('feature_modifications',\n",
       "   ColumnTransformer(transformers=[('num_transformer', MinMaxScaler(),\n",
       "                                    ['measure_index', 'measure_moisture',\n",
       "                                     'measure_temperature', 'measure_chemicals',\n",
       "                                     'measure_biodiversity']),\n",
       "                                   ('main_element_transformer', OneHotEncoder(),\n",
       "                                    ['main_element']),\n",
       "                                   ('soil_transformer',\n",
       "                                    OrdinalEncoder(categories=[['poor', 'normal',\n",
       "                                                                'rich']]),\n",
       "                                    ['soil_condition']),\n",
       "                                   ('time_preprocessing',\n",
       "                                    Pipeline(steps=[('month_duration',\n",
       "                                                     TimeFeaturesExtractor()),\n",
       "                                                    ('scale_cycling',\n",
       "                                                     ColumnTransformer(transformers=[('cyclical_encoding',\n",
       "                                                                                      CyclicalEncoder(),\n",
       "                                                                                      ['month']),\n",
       "                                                                                     ('scale_duration',\n",
       "                                                                                      MinMaxScaler(),\n",
       "                                                                                      ['duration'])]))]),\n",
       "                                    ['datetime_start', 'datetime_end'])])),\n",
       "  ('PCA', PCA(n_components=12))],\n",
       " 'preprocessing__verbose': False,\n",
       " 'preprocessing__feature_modifications': ColumnTransformer(transformers=[('num_transformer', MinMaxScaler(),\n",
       "                                  ['measure_index', 'measure_moisture',\n",
       "                                   'measure_temperature', 'measure_chemicals',\n",
       "                                   'measure_biodiversity']),\n",
       "                                 ('main_element_transformer', OneHotEncoder(),\n",
       "                                  ['main_element']),\n",
       "                                 ('soil_transformer',\n",
       "                                  OrdinalEncoder(categories=[['poor', 'normal',\n",
       "                                                              'rich']]),\n",
       "                                  ['soil_condition']),\n",
       "                                 ('time_preprocessing',\n",
       "                                  Pipeline(steps=[('month_duration',\n",
       "                                                   TimeFeaturesExtractor()),\n",
       "                                                  ('scale_cycling',\n",
       "                                                   ColumnTransformer(transformers=[('cyclical_encoding',\n",
       "                                                                                    CyclicalEncoder(),\n",
       "                                                                                    ['month']),\n",
       "                                                                                   ('scale_duration',\n",
       "                                                                                    MinMaxScaler(),\n",
       "                                                                                    ['duration'])]))]),\n",
       "                                  ['datetime_start', 'datetime_end'])]),\n",
       " 'preprocessing__PCA': PCA(n_components=12),\n",
       " 'preprocessing__feature_modifications__n_jobs': None,\n",
       " 'preprocessing__feature_modifications__remainder': 'drop',\n",
       " 'preprocessing__feature_modifications__sparse_threshold': 0.3,\n",
       " 'preprocessing__feature_modifications__transformer_weights': None,\n",
       " 'preprocessing__feature_modifications__transformers': [('num_transformer',\n",
       "   MinMaxScaler(),\n",
       "   ['measure_index',\n",
       "    'measure_moisture',\n",
       "    'measure_temperature',\n",
       "    'measure_chemicals',\n",
       "    'measure_biodiversity']),\n",
       "  ('main_element_transformer', OneHotEncoder(), ['main_element']),\n",
       "  ('soil_transformer',\n",
       "   OrdinalEncoder(categories=[['poor', 'normal', 'rich']]),\n",
       "   ['soil_condition']),\n",
       "  ('time_preprocessing',\n",
       "   Pipeline(steps=[('month_duration', TimeFeaturesExtractor()),\n",
       "                   ('scale_cycling',\n",
       "                    ColumnTransformer(transformers=[('cyclical_encoding',\n",
       "                                                     CyclicalEncoder(),\n",
       "                                                     ['month']),\n",
       "                                                    ('scale_duration',\n",
       "                                                     MinMaxScaler(),\n",
       "                                                     ['duration'])]))]),\n",
       "   ['datetime_start', 'datetime_end'])],\n",
       " 'preprocessing__feature_modifications__verbose': False,\n",
       " 'preprocessing__feature_modifications__num_transformer': MinMaxScaler(),\n",
       " 'preprocessing__feature_modifications__main_element_transformer': OneHotEncoder(),\n",
       " 'preprocessing__feature_modifications__soil_transformer': OrdinalEncoder(categories=[['poor', 'normal', 'rich']]),\n",
       " 'preprocessing__feature_modifications__time_preprocessing': Pipeline(steps=[('month_duration', TimeFeaturesExtractor()),\n",
       "                 ('scale_cycling',\n",
       "                  ColumnTransformer(transformers=[('cyclical_encoding',\n",
       "                                                   CyclicalEncoder(),\n",
       "                                                   ['month']),\n",
       "                                                  ('scale_duration',\n",
       "                                                   MinMaxScaler(),\n",
       "                                                   ['duration'])]))]),\n",
       " 'preprocessing__feature_modifications__num_transformer__clip': False,\n",
       " 'preprocessing__feature_modifications__num_transformer__copy': True,\n",
       " 'preprocessing__feature_modifications__num_transformer__feature_range': (0,\n",
       "  1),\n",
       " 'preprocessing__feature_modifications__main_element_transformer__categories': 'auto',\n",
       " 'preprocessing__feature_modifications__main_element_transformer__drop': None,\n",
       " 'preprocessing__feature_modifications__main_element_transformer__dtype': numpy.float64,\n",
       " 'preprocessing__feature_modifications__main_element_transformer__handle_unknown': 'error',\n",
       " 'preprocessing__feature_modifications__main_element_transformer__sparse': True,\n",
       " 'preprocessing__feature_modifications__soil_transformer__categories': [['poor',\n",
       "   'normal',\n",
       "   'rich']],\n",
       " 'preprocessing__feature_modifications__soil_transformer__dtype': numpy.float64,\n",
       " 'preprocessing__feature_modifications__soil_transformer__handle_unknown': 'error',\n",
       " 'preprocessing__feature_modifications__soil_transformer__unknown_value': None,\n",
       " 'preprocessing__feature_modifications__time_preprocessing__memory': None,\n",
       " 'preprocessing__feature_modifications__time_preprocessing__steps': [('month_duration',\n",
       "   TimeFeaturesExtractor()),\n",
       "  ('scale_cycling',\n",
       "   ColumnTransformer(transformers=[('cyclical_encoding', CyclicalEncoder(),\n",
       "                                    ['month']),\n",
       "                                   ('scale_duration', MinMaxScaler(),\n",
       "                                    ['duration'])]))],\n",
       " 'preprocessing__feature_modifications__time_preprocessing__verbose': False,\n",
       " 'preprocessing__feature_modifications__time_preprocessing__month_duration': TimeFeaturesExtractor(),\n",
       " 'preprocessing__feature_modifications__time_preprocessing__scale_cycling': ColumnTransformer(transformers=[('cyclical_encoding', CyclicalEncoder(),\n",
       "                                  ['month']),\n",
       "                                 ('scale_duration', MinMaxScaler(),\n",
       "                                  ['duration'])]),\n",
       " 'preprocessing__feature_modifications__time_preprocessing__scale_cycling__n_jobs': None,\n",
       " 'preprocessing__feature_modifications__time_preprocessing__scale_cycling__remainder': 'drop',\n",
       " 'preprocessing__feature_modifications__time_preprocessing__scale_cycling__sparse_threshold': 0.3,\n",
       " 'preprocessing__feature_modifications__time_preprocessing__scale_cycling__transformer_weights': None,\n",
       " 'preprocessing__feature_modifications__time_preprocessing__scale_cycling__transformers': [('cyclical_encoding',\n",
       "   CyclicalEncoder(),\n",
       "   ['month']),\n",
       "  ('scale_duration', MinMaxScaler(), ['duration'])],\n",
       " 'preprocessing__feature_modifications__time_preprocessing__scale_cycling__verbose': False,\n",
       " 'preprocessing__feature_modifications__time_preprocessing__scale_cycling__cyclical_encoding': CyclicalEncoder(),\n",
       " 'preprocessing__feature_modifications__time_preprocessing__scale_cycling__scale_duration': MinMaxScaler(),\n",
       " 'preprocessing__feature_modifications__time_preprocessing__scale_cycling__scale_duration__clip': False,\n",
       " 'preprocessing__feature_modifications__time_preprocessing__scale_cycling__scale_duration__copy': True,\n",
       " 'preprocessing__feature_modifications__time_preprocessing__scale_cycling__scale_duration__feature_range': (0,\n",
       "  1),\n",
       " 'preprocessing__PCA__copy': True,\n",
       " 'preprocessing__PCA__iterated_power': 'auto',\n",
       " 'preprocessing__PCA__n_components': 12,\n",
       " 'preprocessing__PCA__random_state': None,\n",
       " 'preprocessing__PCA__svd_solver': 'auto',\n",
       " 'preprocessing__PCA__tol': 0.0,\n",
       " 'preprocessing__PCA__whiten': False,\n",
       " 'ensemble_model__bootstrap': True,\n",
       " 'ensemble_model__ccp_alpha': 0.0,\n",
       " 'ensemble_model__class_weight': None,\n",
       " 'ensemble_model__criterion': 'gini',\n",
       " 'ensemble_model__max_depth': None,\n",
       " 'ensemble_model__max_features': 'auto',\n",
       " 'ensemble_model__max_leaf_nodes': None,\n",
       " 'ensemble_model__max_samples': None,\n",
       " 'ensemble_model__min_impurity_decrease': 0.0,\n",
       " 'ensemble_model__min_impurity_split': None,\n",
       " 'ensemble_model__min_samples_leaf': 1,\n",
       " 'ensemble_model__min_samples_split': 2,\n",
       " 'ensemble_model__min_weight_fraction_leaf': 0.0,\n",
       " 'ensemble_model__n_estimators': 100,\n",
       " 'ensemble_model__n_jobs': None,\n",
       " 'ensemble_model__oob_score': False,\n",
       " 'ensemble_model__random_state': None,\n",
       " 'ensemble_model__verbose': 0,\n",
       " 'ensemble_model__warm_start': False}"
      ]
     },
     "execution_count": 407,
     "metadata": {},
     "output_type": "execute_result"
    }
   ],
   "source": [
    "pipeline_ensemble.get_params()"
   ]
  },
  {
   "cell_type": "markdown",
   "metadata": {},
   "source": [
    "**📝 Try to fine tune some hyperparameters to improve your model!**"
   ]
  },
  {
   "cell_type": "code",
   "execution_count": 410,
   "metadata": {
    "ExecuteTime": {
     "end_time": "2021-09-09T15:39:43.030102Z",
     "start_time": "2021-09-09T15:39:37.760Z"
    },
    "tags": [
     "challengify"
    ]
   },
   "outputs": [
    {
     "data": {
      "text/plain": [
       "{'ensemble_model__criterion': 'gini', 'preprocessing__PCA__n_components': 13}"
      ]
     },
     "execution_count": 410,
     "metadata": {},
     "output_type": "execute_result"
    }
   ],
   "source": [
    "from sklearn.model_selection import GridSearchCV\n",
    "\n",
    "# Instanciate grid search\n",
    "grid_search = GridSearchCV(\n",
    "    pipeline_ensemble, \n",
    "    param_grid={\n",
    "        # Access any component of the pipeline, as far back as you want\n",
    "        'preprocessing__PCA__n_components': [5,6,7,8,9,10,11,12,13],\n",
    "        'ensemble_model__criterion': [\"gini\",\"entropy\"]},cv=5,scoring=\"precision\")\n",
    "\n",
    "search=grid_search.fit(X_train, y_train)\n"
   ]
  },
  {
   "cell_type": "markdown",
   "metadata": {},
   "source": [
    "**📝 Store the _fitted_ grid search in the `search` variable:**"
   ]
  },
  {
   "cell_type": "code",
   "execution_count": 98,
   "metadata": {
    "tags": [
     "challengify"
    ]
   },
   "outputs": [],
   "source": [
    "# YOUR CODE HERE"
   ]
  },
  {
   "cell_type": "markdown",
   "metadata": {},
   "source": [
    "**📝 Store the _cross-validated results_ of your grid search in the `cv_results` variable:**"
   ]
  },
  {
   "cell_type": "code",
   "execution_count": 412,
   "metadata": {
    "tags": [
     "challengify"
    ]
   },
   "outputs": [],
   "source": [
    "cv_results=grid_search.cv_results_"
   ]
  },
  {
   "cell_type": "markdown",
   "metadata": {},
   "source": [
    "**📝 Store the _best model_ of your grid search in a variable `tuned_model`.**"
   ]
  },
  {
   "cell_type": "code",
   "execution_count": 413,
   "metadata": {
    "ExecuteTime": {
     "end_time": "2021-09-09T15:39:43.033730Z",
     "start_time": "2021-09-09T15:39:37.779Z"
    },
    "tags": [
     "challengify"
    ]
   },
   "outputs": [],
   "source": [
    "tuned_model=grid_search.best_estimator_"
   ]
  },
  {
   "cell_type": "markdown",
   "metadata": {},
   "source": [
    "### 💾 Save your results\n",
    "\n",
    "Run the cell below to save your results."
   ]
  },
  {
   "cell_type": "code",
   "execution_count": 414,
   "metadata": {
    "ExecuteTime": {
     "end_time": "2021-09-09T15:39:43.035303Z",
     "start_time": "2021-09-09T15:39:37.788Z"
    }
   },
   "outputs": [],
   "source": [
    "from nbresult import ChallengeResult\n",
    "from sklearn.model_selection import train_test_split\n",
    "X_,X_val,y_,y_val=train_test_split(X,y,test_size=0.3,random_state=10)\n",
    "tuned_model.fit(X_,y_)\n",
    "\n",
    "result = ChallengeResult(\n",
    "    'model_tuning',\n",
    "    scores_ensemble=scores_ensemble,\n",
    "    scoring=search.scorer_,\n",
    "    params=search.best_params_,\n",
    "    cv_results=cv_results,\n",
    "    y=y_val,\n",
    "    y_pred=tuned_model.predict(X_val)\n",
    ")\n",
    "result.write()"
   ]
  },
  {
   "cell_type": "markdown",
   "metadata": {},
   "source": [
    "## Prediction"
   ]
  },
  {
   "cell_type": "markdown",
   "metadata": {},
   "source": [
    "**📝 Use your newly fine-tuned model to predict on a test set.**"
   ]
  },
  {
   "cell_type": "markdown",
   "metadata": {},
   "source": [
    "Load the test provided at this url: \"https://wagon-public-datasets.s3.amazonaws.com/certification/soils_viability/soils_viability_test.csv\".\n",
    "\n",
    "Create `X_test` and `y_test`\n",
    "\n",
    "Use your fine-tuned model to predict on `X_test`\n",
    "\n",
    "Print a full classification report with your prediction and `y_test`"
   ]
  },
  {
   "cell_type": "code",
   "execution_count": 416,
   "metadata": {},
   "outputs": [],
   "source": [
    "df_test = pd.read_csv(\"https://wagon-public-datasets.s3.amazonaws.com/certification/soils_viability/soils_viability_test.csv\")"
   ]
  },
  {
   "cell_type": "code",
   "execution_count": 417,
   "metadata": {},
   "outputs": [],
   "source": [
    "X_test=df_test.drop(columns=\"target\")"
   ]
  },
  {
   "cell_type": "code",
   "execution_count": 418,
   "metadata": {},
   "outputs": [],
   "source": [
    "y_test=df_test[\"target\"]"
   ]
  },
  {
   "cell_type": "code",
   "execution_count": 419,
   "metadata": {
    "ExecuteTime": {
     "end_time": "2021-09-09T15:39:43.036804Z",
     "start_time": "2021-09-09T15:39:37.800Z"
    },
    "tags": [
     "challengify"
    ]
   },
   "outputs": [
    {
     "data": {
      "text/html": [
       "<style>#sk-b741f33a-e7d4-4a9d-8a0e-1e7129e6f87f {color: black;background-color: white;}#sk-b741f33a-e7d4-4a9d-8a0e-1e7129e6f87f pre{padding: 0;}#sk-b741f33a-e7d4-4a9d-8a0e-1e7129e6f87f div.sk-toggleable {background-color: white;}#sk-b741f33a-e7d4-4a9d-8a0e-1e7129e6f87f label.sk-toggleable__label {cursor: pointer;display: block;width: 100%;margin-bottom: 0;padding: 0.2em 0.3em;box-sizing: border-box;text-align: center;}#sk-b741f33a-e7d4-4a9d-8a0e-1e7129e6f87f div.sk-toggleable__content {max-height: 0;max-width: 0;overflow: hidden;text-align: left;background-color: #f0f8ff;}#sk-b741f33a-e7d4-4a9d-8a0e-1e7129e6f87f div.sk-toggleable__content pre {margin: 0.2em;color: black;border-radius: 0.25em;background-color: #f0f8ff;}#sk-b741f33a-e7d4-4a9d-8a0e-1e7129e6f87f input.sk-toggleable__control:checked~div.sk-toggleable__content {max-height: 200px;max-width: 100%;overflow: auto;}#sk-b741f33a-e7d4-4a9d-8a0e-1e7129e6f87f div.sk-estimator input.sk-toggleable__control:checked~label.sk-toggleable__label {background-color: #d4ebff;}#sk-b741f33a-e7d4-4a9d-8a0e-1e7129e6f87f div.sk-label input.sk-toggleable__control:checked~label.sk-toggleable__label {background-color: #d4ebff;}#sk-b741f33a-e7d4-4a9d-8a0e-1e7129e6f87f input.sk-hidden--visually {border: 0;clip: rect(1px 1px 1px 1px);clip: rect(1px, 1px, 1px, 1px);height: 1px;margin: -1px;overflow: hidden;padding: 0;position: absolute;width: 1px;}#sk-b741f33a-e7d4-4a9d-8a0e-1e7129e6f87f div.sk-estimator {font-family: monospace;background-color: #f0f8ff;margin: 0.25em 0.25em;border: 1px dotted black;border-radius: 0.25em;box-sizing: border-box;}#sk-b741f33a-e7d4-4a9d-8a0e-1e7129e6f87f div.sk-estimator:hover {background-color: #d4ebff;}#sk-b741f33a-e7d4-4a9d-8a0e-1e7129e6f87f div.sk-parallel-item::after {content: \"\";width: 100%;border-bottom: 1px solid gray;flex-grow: 1;}#sk-b741f33a-e7d4-4a9d-8a0e-1e7129e6f87f div.sk-label:hover label.sk-toggleable__label {background-color: #d4ebff;}#sk-b741f33a-e7d4-4a9d-8a0e-1e7129e6f87f div.sk-serial::before {content: \"\";position: absolute;border-left: 1px solid gray;box-sizing: border-box;top: 2em;bottom: 0;left: 50%;}#sk-b741f33a-e7d4-4a9d-8a0e-1e7129e6f87f div.sk-serial {display: flex;flex-direction: column;align-items: center;background-color: white;}#sk-b741f33a-e7d4-4a9d-8a0e-1e7129e6f87f div.sk-item {z-index: 1;}#sk-b741f33a-e7d4-4a9d-8a0e-1e7129e6f87f div.sk-parallel {display: flex;align-items: stretch;justify-content: center;background-color: white;}#sk-b741f33a-e7d4-4a9d-8a0e-1e7129e6f87f div.sk-parallel-item {display: flex;flex-direction: column;position: relative;background-color: white;}#sk-b741f33a-e7d4-4a9d-8a0e-1e7129e6f87f div.sk-parallel-item:first-child::after {align-self: flex-end;width: 50%;}#sk-b741f33a-e7d4-4a9d-8a0e-1e7129e6f87f div.sk-parallel-item:last-child::after {align-self: flex-start;width: 50%;}#sk-b741f33a-e7d4-4a9d-8a0e-1e7129e6f87f div.sk-parallel-item:only-child::after {width: 0;}#sk-b741f33a-e7d4-4a9d-8a0e-1e7129e6f87f div.sk-dashed-wrapped {border: 1px dashed gray;margin: 0.2em;box-sizing: border-box;padding-bottom: 0.1em;background-color: white;position: relative;}#sk-b741f33a-e7d4-4a9d-8a0e-1e7129e6f87f div.sk-label label {font-family: monospace;font-weight: bold;background-color: white;display: inline-block;line-height: 1.2em;}#sk-b741f33a-e7d4-4a9d-8a0e-1e7129e6f87f div.sk-label-container {position: relative;z-index: 2;text-align: center;}#sk-b741f33a-e7d4-4a9d-8a0e-1e7129e6f87f div.sk-container {display: inline-block;position: relative;}</style><div id=\"sk-b741f33a-e7d4-4a9d-8a0e-1e7129e6f87f\" class\"sk-top-container\"><div class=\"sk-container\"><div class=\"sk-item sk-dashed-wrapped\"><div class=\"sk-label-container\"><div class=\"sk-label sk-toggleable\"><input class=\"sk-toggleable__control sk-hidden--visually\" id=\"f14a8bf7-02c3-4b71-a85d-c0ca14967d68\" type=\"checkbox\" ><label class=\"sk-toggleable__label\" for=\"f14a8bf7-02c3-4b71-a85d-c0ca14967d68\">Pipeline</label><div class=\"sk-toggleable__content\"><pre>Pipeline(steps=[('preprocessing',\n",
       "                 Pipeline(steps=[('feature_modifications',\n",
       "                                  ColumnTransformer(transformers=[('num_transformer',\n",
       "                                                                   MinMaxScaler(),\n",
       "                                                                   ['measure_index',\n",
       "                                                                    'measure_moisture',\n",
       "                                                                    'measure_temperature',\n",
       "                                                                    'measure_chemicals',\n",
       "                                                                    'measure_biodiversity']),\n",
       "                                                                  ('main_element_transformer',\n",
       "                                                                   OneHotEncoder(),\n",
       "                                                                   ['main_element']),\n",
       "                                                                  ('soil_transformer',\n",
       "                                                                   OrdinalEncoder(categories...\n",
       "                                                                   ['soil_condition']),\n",
       "                                                                  ('time_preprocessing',\n",
       "                                                                   Pipeline(steps=[('month_duration',\n",
       "                                                                                    TimeFeaturesExtractor()),\n",
       "                                                                                   ('scale_cycling',\n",
       "                                                                                    ColumnTransformer(transformers=[('cyclical_encoding',\n",
       "                                                                                                                     CyclicalEncoder(),\n",
       "                                                                                                                     ['month']),\n",
       "                                                                                                                    ('scale_duration',\n",
       "                                                                                                                     MinMaxScaler(),\n",
       "                                                                                                                     ['duration'])]))]),\n",
       "                                                                   ['datetime_start',\n",
       "                                                                    'datetime_end'])])),\n",
       "                                 ('PCA', PCA(n_components=13))])),\n",
       "                ('ensemble_model', RandomForestClassifier())])</pre></div></div></div><div class=\"sk-serial\"><div class=\"sk-item\"><div class=\"sk-label-container\"><div class=\"sk-label sk-toggleable\"><input class=\"sk-toggleable__control sk-hidden--visually\" id=\"d453ac92-ea59-4d3c-a19e-9d23893af335\" type=\"checkbox\" ><label class=\"sk-toggleable__label\" for=\"d453ac92-ea59-4d3c-a19e-9d23893af335\">preprocessing: Pipeline</label><div class=\"sk-toggleable__content\"><pre>Pipeline(steps=[('feature_modifications',\n",
       "                 ColumnTransformer(transformers=[('num_transformer',\n",
       "                                                  MinMaxScaler(),\n",
       "                                                  ['measure_index',\n",
       "                                                   'measure_moisture',\n",
       "                                                   'measure_temperature',\n",
       "                                                   'measure_chemicals',\n",
       "                                                   'measure_biodiversity']),\n",
       "                                                 ('main_element_transformer',\n",
       "                                                  OneHotEncoder(),\n",
       "                                                  ['main_element']),\n",
       "                                                 ('soil_transformer',\n",
       "                                                  OrdinalEncoder(categories=[['poor',\n",
       "                                                                              'normal',\n",
       "                                                                              'rich']]),\n",
       "                                                  ['soil_condition']),\n",
       "                                                 ('time_preprocessing',\n",
       "                                                  Pipeline(steps=[('month_duration',\n",
       "                                                                   TimeFeaturesExtractor()),\n",
       "                                                                  ('scale_cycling',\n",
       "                                                                   ColumnTransformer(transformers=[('cyclical_encoding',\n",
       "                                                                                                    CyclicalEncoder(),\n",
       "                                                                                                    ['month']),\n",
       "                                                                                                   ('scale_duration',\n",
       "                                                                                                    MinMaxScaler(),\n",
       "                                                                                                    ['duration'])]))]),\n",
       "                                                  ['datetime_start',\n",
       "                                                   'datetime_end'])])),\n",
       "                ('PCA', PCA(n_components=13))])</pre></div></div></div><div class=\"sk-serial\"><div class=\"sk-item sk-dashed-wrapped\"><div class=\"sk-label-container\"><div class=\"sk-label sk-toggleable\"><input class=\"sk-toggleable__control sk-hidden--visually\" id=\"516fbf8f-3421-44e8-9752-5068ad5f4943\" type=\"checkbox\" ><label class=\"sk-toggleable__label\" for=\"516fbf8f-3421-44e8-9752-5068ad5f4943\">feature_modifications: ColumnTransformer</label><div class=\"sk-toggleable__content\"><pre>ColumnTransformer(transformers=[('num_transformer', MinMaxScaler(),\n",
       "                                 ['measure_index', 'measure_moisture',\n",
       "                                  'measure_temperature', 'measure_chemicals',\n",
       "                                  'measure_biodiversity']),\n",
       "                                ('main_element_transformer', OneHotEncoder(),\n",
       "                                 ['main_element']),\n",
       "                                ('soil_transformer',\n",
       "                                 OrdinalEncoder(categories=[['poor', 'normal',\n",
       "                                                             'rich']]),\n",
       "                                 ['soil_condition']),\n",
       "                                ('time_preprocessing',\n",
       "                                 Pipeline(steps=[('month_duration',\n",
       "                                                  TimeFeaturesExtractor()),\n",
       "                                                 ('scale_cycling',\n",
       "                                                  ColumnTransformer(transformers=[('cyclical_encoding',\n",
       "                                                                                   CyclicalEncoder(),\n",
       "                                                                                   ['month']),\n",
       "                                                                                  ('scale_duration',\n",
       "                                                                                   MinMaxScaler(),\n",
       "                                                                                   ['duration'])]))]),\n",
       "                                 ['datetime_start', 'datetime_end'])])</pre></div></div></div><div class=\"sk-parallel\"><div class=\"sk-parallel-item\"><div class=\"sk-item\"><div class=\"sk-label-container\"><div class=\"sk-label sk-toggleable\"><input class=\"sk-toggleable__control sk-hidden--visually\" id=\"4af12545-b8b8-48a0-b6c2-4cdd495cf50a\" type=\"checkbox\" ><label class=\"sk-toggleable__label\" for=\"4af12545-b8b8-48a0-b6c2-4cdd495cf50a\">num_transformer</label><div class=\"sk-toggleable__content\"><pre>['measure_index', 'measure_moisture', 'measure_temperature', 'measure_chemicals', 'measure_biodiversity']</pre></div></div></div><div class=\"sk-serial\"><div class=\"sk-item\"><div class=\"sk-estimator sk-toggleable\"><input class=\"sk-toggleable__control sk-hidden--visually\" id=\"ac8c6f3e-b898-4eca-880f-9fbf0ebd5ba1\" type=\"checkbox\" ><label class=\"sk-toggleable__label\" for=\"ac8c6f3e-b898-4eca-880f-9fbf0ebd5ba1\">MinMaxScaler</label><div class=\"sk-toggleable__content\"><pre>MinMaxScaler()</pre></div></div></div></div></div></div><div class=\"sk-parallel-item\"><div class=\"sk-item\"><div class=\"sk-label-container\"><div class=\"sk-label sk-toggleable\"><input class=\"sk-toggleable__control sk-hidden--visually\" id=\"9aa3fca9-ae1d-48ca-bf28-27b0d02900f2\" type=\"checkbox\" ><label class=\"sk-toggleable__label\" for=\"9aa3fca9-ae1d-48ca-bf28-27b0d02900f2\">main_element_transformer</label><div class=\"sk-toggleable__content\"><pre>['main_element']</pre></div></div></div><div class=\"sk-serial\"><div class=\"sk-item\"><div class=\"sk-estimator sk-toggleable\"><input class=\"sk-toggleable__control sk-hidden--visually\" id=\"3f71b0bd-9e12-46a4-8d24-c6c6b83e4659\" type=\"checkbox\" ><label class=\"sk-toggleable__label\" for=\"3f71b0bd-9e12-46a4-8d24-c6c6b83e4659\">OneHotEncoder</label><div class=\"sk-toggleable__content\"><pre>OneHotEncoder()</pre></div></div></div></div></div></div><div class=\"sk-parallel-item\"><div class=\"sk-item\"><div class=\"sk-label-container\"><div class=\"sk-label sk-toggleable\"><input class=\"sk-toggleable__control sk-hidden--visually\" id=\"c7397fc5-a6f4-4acc-b023-b45c1c846092\" type=\"checkbox\" ><label class=\"sk-toggleable__label\" for=\"c7397fc5-a6f4-4acc-b023-b45c1c846092\">soil_transformer</label><div class=\"sk-toggleable__content\"><pre>['soil_condition']</pre></div></div></div><div class=\"sk-serial\"><div class=\"sk-item\"><div class=\"sk-estimator sk-toggleable\"><input class=\"sk-toggleable__control sk-hidden--visually\" id=\"9f0da54d-c271-4013-ad9d-6415a65e0b6c\" type=\"checkbox\" ><label class=\"sk-toggleable__label\" for=\"9f0da54d-c271-4013-ad9d-6415a65e0b6c\">OrdinalEncoder</label><div class=\"sk-toggleable__content\"><pre>OrdinalEncoder(categories=[['poor', 'normal', 'rich']])</pre></div></div></div></div></div></div><div class=\"sk-parallel-item\"><div class=\"sk-item\"><div class=\"sk-label-container\"><div class=\"sk-label sk-toggleable\"><input class=\"sk-toggleable__control sk-hidden--visually\" id=\"63bf62df-5b95-4a47-8661-ffaef4bf9ce0\" type=\"checkbox\" ><label class=\"sk-toggleable__label\" for=\"63bf62df-5b95-4a47-8661-ffaef4bf9ce0\">time_preprocessing</label><div class=\"sk-toggleable__content\"><pre>['datetime_start', 'datetime_end']</pre></div></div></div><div class=\"sk-serial\"><div class=\"sk-item\"><div class=\"sk-serial\"><div class=\"sk-item\"><div class=\"sk-estimator sk-toggleable\"><input class=\"sk-toggleable__control sk-hidden--visually\" id=\"98511000-8886-4d68-b76b-8d9b8fc4b138\" type=\"checkbox\" ><label class=\"sk-toggleable__label\" for=\"98511000-8886-4d68-b76b-8d9b8fc4b138\">TimeFeaturesExtractor</label><div class=\"sk-toggleable__content\"><pre>TimeFeaturesExtractor()</pre></div></div></div><div class=\"sk-item sk-dashed-wrapped\"><div class=\"sk-label-container\"><div class=\"sk-label sk-toggleable\"><input class=\"sk-toggleable__control sk-hidden--visually\" id=\"fcd7c0bc-f316-4c91-b208-c7627f6ec6db\" type=\"checkbox\" ><label class=\"sk-toggleable__label\" for=\"fcd7c0bc-f316-4c91-b208-c7627f6ec6db\">scale_cycling: ColumnTransformer</label><div class=\"sk-toggleable__content\"><pre>ColumnTransformer(transformers=[('cyclical_encoding', CyclicalEncoder(),\n",
       "                                 ['month']),\n",
       "                                ('scale_duration', MinMaxScaler(),\n",
       "                                 ['duration'])])</pre></div></div></div><div class=\"sk-parallel\"><div class=\"sk-parallel-item\"><div class=\"sk-item\"><div class=\"sk-label-container\"><div class=\"sk-label sk-toggleable\"><input class=\"sk-toggleable__control sk-hidden--visually\" id=\"1df2f0bb-a7e8-41fe-93f5-6e1fe3f0f74a\" type=\"checkbox\" ><label class=\"sk-toggleable__label\" for=\"1df2f0bb-a7e8-41fe-93f5-6e1fe3f0f74a\">cyclical_encoding</label><div class=\"sk-toggleable__content\"><pre>['month']</pre></div></div></div><div class=\"sk-serial\"><div class=\"sk-item\"><div class=\"sk-estimator sk-toggleable\"><input class=\"sk-toggleable__control sk-hidden--visually\" id=\"110d0327-56fb-438f-b7f1-63a14554d0d4\" type=\"checkbox\" ><label class=\"sk-toggleable__label\" for=\"110d0327-56fb-438f-b7f1-63a14554d0d4\">CyclicalEncoder</label><div class=\"sk-toggleable__content\"><pre>CyclicalEncoder()</pre></div></div></div></div></div></div><div class=\"sk-parallel-item\"><div class=\"sk-item\"><div class=\"sk-label-container\"><div class=\"sk-label sk-toggleable\"><input class=\"sk-toggleable__control sk-hidden--visually\" id=\"f2c619b5-ddf0-476a-a314-4176d3cd32a4\" type=\"checkbox\" ><label class=\"sk-toggleable__label\" for=\"f2c619b5-ddf0-476a-a314-4176d3cd32a4\">scale_duration</label><div class=\"sk-toggleable__content\"><pre>['duration']</pre></div></div></div><div class=\"sk-serial\"><div class=\"sk-item\"><div class=\"sk-estimator sk-toggleable\"><input class=\"sk-toggleable__control sk-hidden--visually\" id=\"0cbfd713-b035-4207-8381-65d4edb5a80f\" type=\"checkbox\" ><label class=\"sk-toggleable__label\" for=\"0cbfd713-b035-4207-8381-65d4edb5a80f\">MinMaxScaler</label><div class=\"sk-toggleable__content\"><pre>MinMaxScaler()</pre></div></div></div></div></div></div></div></div></div></div></div></div></div></div></div><div class=\"sk-item\"><div class=\"sk-estimator sk-toggleable\"><input class=\"sk-toggleable__control sk-hidden--visually\" id=\"2ce1b9df-3cfe-47ed-abbb-c27168c4b626\" type=\"checkbox\" ><label class=\"sk-toggleable__label\" for=\"2ce1b9df-3cfe-47ed-abbb-c27168c4b626\">PCA</label><div class=\"sk-toggleable__content\"><pre>PCA(n_components=13)</pre></div></div></div></div></div><div class=\"sk-item\"><div class=\"sk-estimator sk-toggleable\"><input class=\"sk-toggleable__control sk-hidden--visually\" id=\"365790fe-00f5-461a-a970-d4e1238e15ce\" type=\"checkbox\" ><label class=\"sk-toggleable__label\" for=\"365790fe-00f5-461a-a970-d4e1238e15ce\">RandomForestClassifier</label><div class=\"sk-toggleable__content\"><pre>RandomForestClassifier()</pre></div></div></div></div></div></div></div>"
      ],
      "text/plain": [
       "Pipeline(steps=[('preprocessing',\n",
       "                 Pipeline(steps=[('feature_modifications',\n",
       "                                  ColumnTransformer(transformers=[('num_transformer',\n",
       "                                                                   MinMaxScaler(),\n",
       "                                                                   ['measure_index',\n",
       "                                                                    'measure_moisture',\n",
       "                                                                    'measure_temperature',\n",
       "                                                                    'measure_chemicals',\n",
       "                                                                    'measure_biodiversity']),\n",
       "                                                                  ('main_element_transformer',\n",
       "                                                                   OneHotEncoder(),\n",
       "                                                                   ['main_element']),\n",
       "                                                                  ('soil_transformer',\n",
       "                                                                   OrdinalEncoder(categories...\n",
       "                                                                   ['soil_condition']),\n",
       "                                                                  ('time_preprocessing',\n",
       "                                                                   Pipeline(steps=[('month_duration',\n",
       "                                                                                    TimeFeaturesExtractor()),\n",
       "                                                                                   ('scale_cycling',\n",
       "                                                                                    ColumnTransformer(transformers=[('cyclical_encoding',\n",
       "                                                                                                                     CyclicalEncoder(),\n",
       "                                                                                                                     ['month']),\n",
       "                                                                                                                    ('scale_duration',\n",
       "                                                                                                                     MinMaxScaler(),\n",
       "                                                                                                                     ['duration'])]))]),\n",
       "                                                                   ['datetime_start',\n",
       "                                                                    'datetime_end'])])),\n",
       "                                 ('PCA', PCA(n_components=13))])),\n",
       "                ('ensemble_model', RandomForestClassifier())])"
      ]
     },
     "execution_count": 419,
     "metadata": {},
     "output_type": "execute_result"
    }
   ],
   "source": [
    "tuned_model.fit(X,y)"
   ]
  },
  {
   "cell_type": "code",
   "execution_count": 420,
   "metadata": {},
   "outputs": [
    {
     "data": {
      "text/plain": [
       "array([0, 0, 1, ..., 0, 1, 0])"
      ]
     },
     "execution_count": 420,
     "metadata": {},
     "output_type": "execute_result"
    }
   ],
   "source": [
    "tuned_model.predict(X_test)"
   ]
  },
  {
   "cell_type": "code",
   "execution_count": 421,
   "metadata": {},
   "outputs": [],
   "source": [
    "from sklearn.metrics import classification_report"
   ]
  },
  {
   "cell_type": "code",
   "execution_count": 423,
   "metadata": {},
   "outputs": [
    {
     "name": "stdout",
     "output_type": "stream",
     "text": [
      "              precision    recall  f1-score   support\n",
      "\n",
      "           0       0.97      0.99      0.98      1036\n",
      "           1       0.98      0.97      0.98      1000\n",
      "\n",
      "    accuracy                           0.98      2036\n",
      "   macro avg       0.98      0.98      0.98      2036\n",
      "weighted avg       0.98      0.98      0.98      2036\n",
      "\n"
     ]
    }
   ],
   "source": [
    "print(classification_report(y_test,tuned_model.predict(X_test)))"
   ]
  },
  {
   "cell_type": "markdown",
   "metadata": {},
   "source": [
    "**❓ Comment your results:**"
   ]
  },
  {
   "cell_type": "markdown",
   "metadata": {
    "tags": [
     "challengify"
    ]
   },
   "source": [
    "Le modèle est plutot bon au vu des résultats"
   ]
  },
  {
   "cell_type": "markdown",
   "metadata": {},
   "source": [
    "## API \n",
    "\n",
    "Time to put a pipeline in production!\n",
    "\n",
    "👉 Go back to the certification interface and follow the instructions about the API challenge.\n",
    "\n",
    "**This final part is independent from the above notebook**"
   ]
  }
 ],
 "metadata": {
  "kernelspec": {
   "display_name": "Python 3 (ipykernel)",
   "language": "python",
   "name": "python3"
  },
  "language_info": {
   "codemirror_mode": {
    "name": "ipython",
    "version": 3
   },
   "file_extension": ".py",
   "mimetype": "text/x-python",
   "name": "python",
   "nbconvert_exporter": "python",
   "pygments_lexer": "ipython3",
   "version": "3.8.12"
  },
  "toc": {
   "base_numbering": 1,
   "nav_menu": {},
   "number_sections": false,
   "sideBar": true,
   "skip_h1_title": false,
   "title_cell": "Table of Contents",
   "title_sidebar": "Contents",
   "toc_cell": false,
   "toc_position": {
    "height": "calc(100% - 180px)",
    "left": "10px",
    "top": "150px",
    "width": "300.297px"
   },
   "toc_section_display": true,
   "toc_window_display": true
  },
  "varInspector": {
   "cols": {
    "lenName": 16,
    "lenType": 16,
    "lenVar": 40
   },
   "kernels_config": {
    "python": {
     "delete_cmd_postfix": "",
     "delete_cmd_prefix": "del ",
     "library": "var_list.py",
     "varRefreshCmd": "print(var_dic_list())"
    },
    "r": {
     "delete_cmd_postfix": ") ",
     "delete_cmd_prefix": "rm(",
     "library": "var_list.r",
     "varRefreshCmd": "cat(var_dic_list()) "
    }
   },
   "types_to_exclude": [
    "module",
    "function",
    "builtin_function_or_method",
    "instance",
    "_Feature"
   ],
   "window_display": false
  }
 },
 "nbformat": 4,
 "nbformat_minor": 4
}
